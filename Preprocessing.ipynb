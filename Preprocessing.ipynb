{
  "nbformat": 4,
  "nbformat_minor": 0,
  "metadata": {
    "colab": {
      "name": "Preprocessing.ipynb",
      "provenance": [],
      "collapsed_sections": [],
      "authorship_tag": "ABX9TyOnM/X+I3CvJRJzNJxzAivK",
      "include_colab_link": true
    },
    "kernelspec": {
      "name": "python3",
      "display_name": "Python 3"
    },
    "language_info": {
      "name": "python"
    }
  },
  "cells": [
    {
      "cell_type": "markdown",
      "metadata": {
        "id": "view-in-github",
        "colab_type": "text"
      },
      "source": [
        "<a href=\"https://colab.research.google.com/github/170294r/Pump-it-Up-Data-Mining-the-Water-Table-/blob/main/Preprocessing.ipynb\" target=\"_parent\"><img src=\"https://colab.research.google.com/assets/colab-badge.svg\" alt=\"Open In Colab\"/></a>"
      ]
    },
    {
      "cell_type": "code",
      "metadata": {
        "id": "XomJDpq1jfUb"
      },
      "source": [
        "import numpy as np      # To use np.arrays\n",
        "import pandas as pd     # To use dataframes\n",
        "\n",
        "# To plot\n",
        "import matplotlib.pyplot as plt  \n",
        "%matplotlib inline        \n",
        "import seaborn as sns"
      ],
      "execution_count": 1,
      "outputs": []
    },
    {
      "cell_type": "code",
      "metadata": {
        "colab": {
          "resources": {
            "http://localhost:8080/nbextensions/google.colab/files.js": {
              "data": "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",
              "ok": true,
              "headers": [
                [
                  "content-type",
                  "application/javascript"
                ]
              ],
              "status": 200,
              "status_text": "OK"
            }
          },
          "base_uri": "https://localhost:8080/",
          "height": 148
        },
        "id": "3u9xd_CQjwuG",
        "outputId": "02495920-0c76-4bc7-bf69-dd0fe2397ba7"
      },
      "source": [
        "from google.colab import files\n",
        "uploaded = files.upload()"
      ],
      "execution_count": 2,
      "outputs": [
        {
          "output_type": "display_data",
          "data": {
            "text/html": [
              "\n",
              "     <input type=\"file\" id=\"files-cca63e8b-befb-45f9-a7d4-da40cd63f941\" name=\"files[]\" multiple disabled\n",
              "        style=\"border:none\" />\n",
              "     <output id=\"result-cca63e8b-befb-45f9-a7d4-da40cd63f941\">\n",
              "      Upload widget is only available when the cell has been executed in the\n",
              "      current browser session. Please rerun this cell to enable.\n",
              "      </output>\n",
              "      <script src=\"/nbextensions/google.colab/files.js\"></script> "
            ],
            "text/plain": [
              "<IPython.core.display.HTML object>"
            ]
          },
          "metadata": {}
        },
        {
          "output_type": "stream",
          "name": "stdout",
          "text": [
            "Saving Test set values.csv to Test set values.csv\n",
            "Saving Training set labels.csv to Training set labels.csv\n",
            "Saving Training set values.csv to Training set values.csv\n"
          ]
        }
      ]
    },
    {
      "cell_type": "code",
      "metadata": {
        "id": "UUrtXnr0nhZl",
        "colab": {
          "base_uri": "https://localhost:8080/",
          "height": 211
        },
        "outputId": "a5529c92-d585-4a66-bad7-fc2ceb5c0538"
      },
      "source": [
        "import io\n",
        "df_train_set = pd.read_csv(io.BytesIO(uploaded['Training set values.csv']))\n",
        "df_train_labels = pd.read_csv( io.BytesIO(uploaded['Training set labels.csv']))"
      ],
      "execution_count": 1,
      "outputs": [
        {
          "output_type": "error",
          "ename": "NameError",
          "evalue": "ignored",
          "traceback": [
            "\u001b[0;31m---------------------------------------------------------------------------\u001b[0m",
            "\u001b[0;31mNameError\u001b[0m                                 Traceback (most recent call last)",
            "\u001b[0;32m<ipython-input-1-659279be0f75>\u001b[0m in \u001b[0;36m<module>\u001b[0;34m()\u001b[0m\n\u001b[1;32m      1\u001b[0m \u001b[0;32mimport\u001b[0m \u001b[0mio\u001b[0m\u001b[0;34m\u001b[0m\u001b[0;34m\u001b[0m\u001b[0m\n\u001b[0;32m----> 2\u001b[0;31m \u001b[0mdf_train_set\u001b[0m \u001b[0;34m=\u001b[0m \u001b[0mpd\u001b[0m\u001b[0;34m.\u001b[0m\u001b[0mread_csv\u001b[0m\u001b[0;34m(\u001b[0m\u001b[0mio\u001b[0m\u001b[0;34m.\u001b[0m\u001b[0mBytesIO\u001b[0m\u001b[0;34m(\u001b[0m\u001b[0muploaded\u001b[0m\u001b[0;34m[\u001b[0m\u001b[0;34m'Training set values.csv'\u001b[0m\u001b[0;34m]\u001b[0m\u001b[0;34m)\u001b[0m\u001b[0;34m)\u001b[0m\u001b[0;34m\u001b[0m\u001b[0;34m\u001b[0m\u001b[0m\n\u001b[0m\u001b[1;32m      3\u001b[0m \u001b[0mdf_train_labels\u001b[0m \u001b[0;34m=\u001b[0m \u001b[0mpd\u001b[0m\u001b[0;34m.\u001b[0m\u001b[0mread_csv\u001b[0m\u001b[0;34m(\u001b[0m \u001b[0mio\u001b[0m\u001b[0;34m.\u001b[0m\u001b[0mBytesIO\u001b[0m\u001b[0;34m(\u001b[0m\u001b[0muploaded\u001b[0m\u001b[0;34m[\u001b[0m\u001b[0;34m'Training set labels.csv'\u001b[0m\u001b[0;34m]\u001b[0m\u001b[0;34m)\u001b[0m\u001b[0;34m)\u001b[0m\u001b[0;34m\u001b[0m\u001b[0;34m\u001b[0m\u001b[0m\n",
            "\u001b[0;31mNameError\u001b[0m: name 'pd' is not defined"
          ]
        }
      ]
    },
    {
      "cell_type": "code",
      "metadata": {
        "colab": {
          "base_uri": "https://localhost:8080/",
          "height": 423
        },
        "id": "Icw50FPXoJqM",
        "outputId": "e18c69bf-d5ee-495c-c57c-91036192812c"
      },
      "source": [
        "df_train_labels"
      ],
      "execution_count": null,
      "outputs": [
        {
          "output_type": "execute_result",
          "data": {
            "text/html": [
              "<div>\n",
              "<style scoped>\n",
              "    .dataframe tbody tr th:only-of-type {\n",
              "        vertical-align: middle;\n",
              "    }\n",
              "\n",
              "    .dataframe tbody tr th {\n",
              "        vertical-align: top;\n",
              "    }\n",
              "\n",
              "    .dataframe thead th {\n",
              "        text-align: right;\n",
              "    }\n",
              "</style>\n",
              "<table border=\"1\" class=\"dataframe\">\n",
              "  <thead>\n",
              "    <tr style=\"text-align: right;\">\n",
              "      <th></th>\n",
              "      <th>id</th>\n",
              "      <th>status_group</th>\n",
              "    </tr>\n",
              "  </thead>\n",
              "  <tbody>\n",
              "    <tr>\n",
              "      <th>0</th>\n",
              "      <td>69572</td>\n",
              "      <td>functional</td>\n",
              "    </tr>\n",
              "    <tr>\n",
              "      <th>1</th>\n",
              "      <td>8776</td>\n",
              "      <td>functional</td>\n",
              "    </tr>\n",
              "    <tr>\n",
              "      <th>2</th>\n",
              "      <td>34310</td>\n",
              "      <td>functional</td>\n",
              "    </tr>\n",
              "    <tr>\n",
              "      <th>3</th>\n",
              "      <td>67743</td>\n",
              "      <td>non functional</td>\n",
              "    </tr>\n",
              "    <tr>\n",
              "      <th>4</th>\n",
              "      <td>19728</td>\n",
              "      <td>functional</td>\n",
              "    </tr>\n",
              "    <tr>\n",
              "      <th>...</th>\n",
              "      <td>...</td>\n",
              "      <td>...</td>\n",
              "    </tr>\n",
              "    <tr>\n",
              "      <th>59395</th>\n",
              "      <td>60739</td>\n",
              "      <td>functional</td>\n",
              "    </tr>\n",
              "    <tr>\n",
              "      <th>59396</th>\n",
              "      <td>27263</td>\n",
              "      <td>functional</td>\n",
              "    </tr>\n",
              "    <tr>\n",
              "      <th>59397</th>\n",
              "      <td>37057</td>\n",
              "      <td>functional</td>\n",
              "    </tr>\n",
              "    <tr>\n",
              "      <th>59398</th>\n",
              "      <td>31282</td>\n",
              "      <td>functional</td>\n",
              "    </tr>\n",
              "    <tr>\n",
              "      <th>59399</th>\n",
              "      <td>26348</td>\n",
              "      <td>functional</td>\n",
              "    </tr>\n",
              "  </tbody>\n",
              "</table>\n",
              "<p>59400 rows × 2 columns</p>\n",
              "</div>"
            ],
            "text/plain": [
              "          id    status_group\n",
              "0      69572      functional\n",
              "1       8776      functional\n",
              "2      34310      functional\n",
              "3      67743  non functional\n",
              "4      19728      functional\n",
              "...      ...             ...\n",
              "59395  60739      functional\n",
              "59396  27263      functional\n",
              "59397  37057      functional\n",
              "59398  31282      functional\n",
              "59399  26348      functional\n",
              "\n",
              "[59400 rows x 2 columns]"
            ]
          },
          "metadata": {},
          "execution_count": 4
        }
      ]
    },
    {
      "cell_type": "code",
      "metadata": {
        "id": "DRzGh9SxoRSf"
      },
      "source": [
        "df_train_set.set_index('id',inplace=True)"
      ],
      "execution_count": null,
      "outputs": []
    },
    {
      "cell_type": "code",
      "metadata": {
        "id": "b61p6vpaowQ4"
      },
      "source": [
        "df_train_labels.set_index('id',inplace=True)"
      ],
      "execution_count": null,
      "outputs": []
    },
    {
      "cell_type": "code",
      "metadata": {
        "id": "ONntjS6Jo1tN"
      },
      "source": [
        "df = pd.merge(df_train_labels, df_train_set, how = 'inner', left_index = True,right_index=True)"
      ],
      "execution_count": null,
      "outputs": []
    },
    {
      "cell_type": "code",
      "metadata": {
        "id": "n90bRECWqKkr"
      },
      "source": [
        "df.reset_index(inplace=True)"
      ],
      "execution_count": null,
      "outputs": []
    },
    {
      "cell_type": "code",
      "metadata": {
        "colab": {
          "base_uri": "https://localhost:8080/"
        },
        "id": "to132JqKqPdm",
        "outputId": "51ba8d8b-6ab4-4bd5-f7ee-23f59dc71d09"
      },
      "source": [
        "df.info()"
      ],
      "execution_count": null,
      "outputs": [
        {
          "output_type": "stream",
          "name": "stdout",
          "text": [
            "<class 'pandas.core.frame.DataFrame'>\n",
            "RangeIndex: 59400 entries, 0 to 59399\n",
            "Data columns (total 41 columns):\n",
            " #   Column                 Non-Null Count  Dtype  \n",
            "---  ------                 --------------  -----  \n",
            " 0   id                     59400 non-null  int64  \n",
            " 1   status_group           59400 non-null  object \n",
            " 2   amount_tsh             59400 non-null  float64\n",
            " 3   date_recorded          59400 non-null  object \n",
            " 4   funder                 55765 non-null  object \n",
            " 5   gps_height             59400 non-null  int64  \n",
            " 6   installer              55745 non-null  object \n",
            " 7   longitude              59400 non-null  float64\n",
            " 8   latitude               59400 non-null  float64\n",
            " 9   wpt_name               59400 non-null  object \n",
            " 10  num_private            59400 non-null  int64  \n",
            " 11  basin                  59400 non-null  object \n",
            " 12  subvillage             59029 non-null  object \n",
            " 13  region                 59400 non-null  object \n",
            " 14  region_code            59400 non-null  int64  \n",
            " 15  district_code          59400 non-null  int64  \n",
            " 16  lga                    59400 non-null  object \n",
            " 17  ward                   59400 non-null  object \n",
            " 18  population             59400 non-null  int64  \n",
            " 19  public_meeting         56066 non-null  object \n",
            " 20  recorded_by            59400 non-null  object \n",
            " 21  scheme_management      55523 non-null  object \n",
            " 22  scheme_name            31234 non-null  object \n",
            " 23  permit                 56344 non-null  object \n",
            " 24  construction_year      59400 non-null  int64  \n",
            " 25  extraction_type        59400 non-null  object \n",
            " 26  extraction_type_group  59400 non-null  object \n",
            " 27  extraction_type_class  59400 non-null  object \n",
            " 28  management             59400 non-null  object \n",
            " 29  management_group       59400 non-null  object \n",
            " 30  payment                59400 non-null  object \n",
            " 31  payment_type           59400 non-null  object \n",
            " 32  water_quality          59400 non-null  object \n",
            " 33  quality_group          59400 non-null  object \n",
            " 34  quantity               59400 non-null  object \n",
            " 35  quantity_group         59400 non-null  object \n",
            " 36  source                 59400 non-null  object \n",
            " 37  source_type            59400 non-null  object \n",
            " 38  source_class           59400 non-null  object \n",
            " 39  waterpoint_type        59400 non-null  object \n",
            " 40  waterpoint_type_group  59400 non-null  object \n",
            "dtypes: float64(3), int64(7), object(31)\n",
            "memory usage: 18.6+ MB\n"
          ]
        }
      ]
    },
    {
      "cell_type": "code",
      "metadata": {
        "colab": {
          "base_uri": "https://localhost:8080/"
        },
        "id": "hcvUeMwtqdel",
        "outputId": "63f4b194-d61a-4793-91fa-b95c91f6049a"
      },
      "source": [
        "df.isna().sum()"
      ],
      "execution_count": null,
      "outputs": [
        {
          "output_type": "execute_result",
          "data": {
            "text/plain": [
              "id                           0\n",
              "status_group                 0\n",
              "amount_tsh                   0\n",
              "date_recorded                0\n",
              "funder                    3635\n",
              "gps_height                   0\n",
              "installer                 3655\n",
              "longitude                    0\n",
              "latitude                     0\n",
              "wpt_name                     0\n",
              "num_private                  0\n",
              "basin                        0\n",
              "subvillage                 371\n",
              "region                       0\n",
              "region_code                  0\n",
              "district_code                0\n",
              "lga                          0\n",
              "ward                         0\n",
              "population                   0\n",
              "public_meeting            3334\n",
              "recorded_by                  0\n",
              "scheme_management         3877\n",
              "scheme_name              28166\n",
              "permit                    3056\n",
              "construction_year            0\n",
              "extraction_type              0\n",
              "extraction_type_group        0\n",
              "extraction_type_class        0\n",
              "management                   0\n",
              "management_group             0\n",
              "payment                      0\n",
              "payment_type                 0\n",
              "water_quality                0\n",
              "quality_group                0\n",
              "quantity                     0\n",
              "quantity_group               0\n",
              "source                       0\n",
              "source_type                  0\n",
              "source_class                 0\n",
              "waterpoint_type              0\n",
              "waterpoint_type_group        0\n",
              "dtype: int64"
            ]
          },
          "metadata": {},
          "execution_count": 10
        }
      ]
    },
    {
      "cell_type": "code",
      "metadata": {
        "colab": {
          "base_uri": "https://localhost:8080/"
        },
        "id": "EmR4hNwJqi9c",
        "outputId": "3726219c-9d22-46f2-a187-5b9cb4481134"
      },
      "source": [
        "df['status_group'].value_counts()"
      ],
      "execution_count": null,
      "outputs": [
        {
          "output_type": "execute_result",
          "data": {
            "text/plain": [
              "functional                 32259\n",
              "non functional             22824\n",
              "functional needs repair     4317\n",
              "Name: status_group, dtype: int64"
            ]
          },
          "metadata": {},
          "execution_count": 11
        }
      ]
    },
    {
      "cell_type": "code",
      "metadata": {
        "colab": {
          "base_uri": "https://localhost:8080/"
        },
        "id": "X5R7k7Eiqo0H",
        "outputId": "e8a741f7-3122-48a8-b75b-05dcad25b8b0"
      },
      "source": [
        "df['scheme_management'].value_counts()"
      ],
      "execution_count": null,
      "outputs": [
        {
          "output_type": "execute_result",
          "data": {
            "text/plain": [
              "VWC                 36793\n",
              "WUG                  5206\n",
              "Water authority      3153\n",
              "WUA                  2883\n",
              "Water Board          2748\n",
              "Parastatal           1680\n",
              "Private operator     1063\n",
              "Company              1061\n",
              "Other                 766\n",
              "SWC                    97\n",
              "Trust                  72\n",
              "None                    1\n",
              "Name: scheme_management, dtype: int64"
            ]
          },
          "metadata": {},
          "execution_count": 12
        }
      ]
    },
    {
      "cell_type": "code",
      "metadata": {
        "colab": {
          "base_uri": "https://localhost:8080/"
        },
        "id": "R8eBhLWaq0z4",
        "outputId": "5d78a558-094a-4ef7-b139-37b80a9665c6"
      },
      "source": [
        "df['management'].value_counts()"
      ],
      "execution_count": null,
      "outputs": [
        {
          "output_type": "execute_result",
          "data": {
            "text/plain": [
              "vwc                 40507\n",
              "wug                  6515\n",
              "water board          2933\n",
              "wua                  2535\n",
              "private operator     1971\n",
              "parastatal           1768\n",
              "water authority       904\n",
              "other                 844\n",
              "company               685\n",
              "unknown               561\n",
              "other - school         99\n",
              "trust                  78\n",
              "Name: management, dtype: int64"
            ]
          },
          "metadata": {},
          "execution_count": 13
        }
      ]
    },
    {
      "cell_type": "code",
      "metadata": {
        "colab": {
          "base_uri": "https://localhost:8080/"
        },
        "id": "FoZMmee8q6Hv",
        "outputId": "88bb6ae6-7457-47ca-859d-b1300bfde680"
      },
      "source": [
        "df['management_group'].value_counts()"
      ],
      "execution_count": null,
      "outputs": [
        {
          "output_type": "execute_result",
          "data": {
            "text/plain": [
              "user-group    52490\n",
              "commercial     3638\n",
              "parastatal     1768\n",
              "other           943\n",
              "unknown         561\n",
              "Name: management_group, dtype: int64"
            ]
          },
          "metadata": {},
          "execution_count": 14
        }
      ]
    },
    {
      "cell_type": "code",
      "metadata": {
        "colab": {
          "base_uri": "https://localhost:8080/"
        },
        "id": "MInOAWx1q_Pt",
        "outputId": "c9814a68-0891-44cf-8dc5-75d9668cfaf1"
      },
      "source": [
        "df.loc[df['management_group']=='user-group']['management'].value_counts()"
      ],
      "execution_count": null,
      "outputs": [
        {
          "output_type": "execute_result",
          "data": {
            "text/plain": [
              "vwc            40507\n",
              "wug             6515\n",
              "water board     2933\n",
              "wua             2535\n",
              "Name: management, dtype: int64"
            ]
          },
          "metadata": {},
          "execution_count": 15
        }
      ]
    },
    {
      "cell_type": "code",
      "metadata": {
        "colab": {
          "base_uri": "https://localhost:8080/",
          "height": 529
        },
        "id": "N-yVKCrXrGQz",
        "outputId": "e4e6e032-116f-439e-b151-108e942caa24"
      },
      "source": [
        "df.groupby(['management_group','management']).count() "
      ],
      "execution_count": null,
      "outputs": [
        {
          "output_type": "execute_result",
          "data": {
            "text/html": [
              "<div>\n",
              "<style scoped>\n",
              "    .dataframe tbody tr th:only-of-type {\n",
              "        vertical-align: middle;\n",
              "    }\n",
              "\n",
              "    .dataframe tbody tr th {\n",
              "        vertical-align: top;\n",
              "    }\n",
              "\n",
              "    .dataframe thead th {\n",
              "        text-align: right;\n",
              "    }\n",
              "</style>\n",
              "<table border=\"1\" class=\"dataframe\">\n",
              "  <thead>\n",
              "    <tr style=\"text-align: right;\">\n",
              "      <th></th>\n",
              "      <th></th>\n",
              "      <th>id</th>\n",
              "      <th>status_group</th>\n",
              "      <th>amount_tsh</th>\n",
              "      <th>date_recorded</th>\n",
              "      <th>funder</th>\n",
              "      <th>gps_height</th>\n",
              "      <th>installer</th>\n",
              "      <th>longitude</th>\n",
              "      <th>latitude</th>\n",
              "      <th>wpt_name</th>\n",
              "      <th>num_private</th>\n",
              "      <th>basin</th>\n",
              "      <th>subvillage</th>\n",
              "      <th>region</th>\n",
              "      <th>region_code</th>\n",
              "      <th>district_code</th>\n",
              "      <th>lga</th>\n",
              "      <th>ward</th>\n",
              "      <th>population</th>\n",
              "      <th>public_meeting</th>\n",
              "      <th>recorded_by</th>\n",
              "      <th>scheme_management</th>\n",
              "      <th>scheme_name</th>\n",
              "      <th>permit</th>\n",
              "      <th>construction_year</th>\n",
              "      <th>extraction_type</th>\n",
              "      <th>extraction_type_group</th>\n",
              "      <th>extraction_type_class</th>\n",
              "      <th>payment</th>\n",
              "      <th>payment_type</th>\n",
              "      <th>water_quality</th>\n",
              "      <th>quality_group</th>\n",
              "      <th>quantity</th>\n",
              "      <th>quantity_group</th>\n",
              "      <th>source</th>\n",
              "      <th>source_type</th>\n",
              "      <th>source_class</th>\n",
              "      <th>waterpoint_type</th>\n",
              "      <th>waterpoint_type_group</th>\n",
              "    </tr>\n",
              "    <tr>\n",
              "      <th>management_group</th>\n",
              "      <th>management</th>\n",
              "      <th></th>\n",
              "      <th></th>\n",
              "      <th></th>\n",
              "      <th></th>\n",
              "      <th></th>\n",
              "      <th></th>\n",
              "      <th></th>\n",
              "      <th></th>\n",
              "      <th></th>\n",
              "      <th></th>\n",
              "      <th></th>\n",
              "      <th></th>\n",
              "      <th></th>\n",
              "      <th></th>\n",
              "      <th></th>\n",
              "      <th></th>\n",
              "      <th></th>\n",
              "      <th></th>\n",
              "      <th></th>\n",
              "      <th></th>\n",
              "      <th></th>\n",
              "      <th></th>\n",
              "      <th></th>\n",
              "      <th></th>\n",
              "      <th></th>\n",
              "      <th></th>\n",
              "      <th></th>\n",
              "      <th></th>\n",
              "      <th></th>\n",
              "      <th></th>\n",
              "      <th></th>\n",
              "      <th></th>\n",
              "      <th></th>\n",
              "      <th></th>\n",
              "      <th></th>\n",
              "      <th></th>\n",
              "      <th></th>\n",
              "      <th></th>\n",
              "      <th></th>\n",
              "    </tr>\n",
              "  </thead>\n",
              "  <tbody>\n",
              "    <tr>\n",
              "      <th rowspan=\"4\" valign=\"top\">commercial</th>\n",
              "      <th>company</th>\n",
              "      <td>685</td>\n",
              "      <td>685</td>\n",
              "      <td>685</td>\n",
              "      <td>685</td>\n",
              "      <td>663</td>\n",
              "      <td>685</td>\n",
              "      <td>663</td>\n",
              "      <td>685</td>\n",
              "      <td>685</td>\n",
              "      <td>685</td>\n",
              "      <td>685</td>\n",
              "      <td>685</td>\n",
              "      <td>685</td>\n",
              "      <td>685</td>\n",
              "      <td>685</td>\n",
              "      <td>685</td>\n",
              "      <td>685</td>\n",
              "      <td>685</td>\n",
              "      <td>685</td>\n",
              "      <td>684</td>\n",
              "      <td>685</td>\n",
              "      <td>684</td>\n",
              "      <td>655</td>\n",
              "      <td>658</td>\n",
              "      <td>685</td>\n",
              "      <td>685</td>\n",
              "      <td>685</td>\n",
              "      <td>685</td>\n",
              "      <td>685</td>\n",
              "      <td>685</td>\n",
              "      <td>685</td>\n",
              "      <td>685</td>\n",
              "      <td>685</td>\n",
              "      <td>685</td>\n",
              "      <td>685</td>\n",
              "      <td>685</td>\n",
              "      <td>685</td>\n",
              "      <td>685</td>\n",
              "      <td>685</td>\n",
              "    </tr>\n",
              "    <tr>\n",
              "      <th>private operator</th>\n",
              "      <td>1971</td>\n",
              "      <td>1971</td>\n",
              "      <td>1971</td>\n",
              "      <td>1971</td>\n",
              "      <td>1957</td>\n",
              "      <td>1971</td>\n",
              "      <td>1959</td>\n",
              "      <td>1971</td>\n",
              "      <td>1971</td>\n",
              "      <td>1971</td>\n",
              "      <td>1971</td>\n",
              "      <td>1971</td>\n",
              "      <td>1932</td>\n",
              "      <td>1971</td>\n",
              "      <td>1971</td>\n",
              "      <td>1971</td>\n",
              "      <td>1971</td>\n",
              "      <td>1971</td>\n",
              "      <td>1971</td>\n",
              "      <td>1660</td>\n",
              "      <td>1971</td>\n",
              "      <td>1852</td>\n",
              "      <td>992</td>\n",
              "      <td>1893</td>\n",
              "      <td>1971</td>\n",
              "      <td>1971</td>\n",
              "      <td>1971</td>\n",
              "      <td>1971</td>\n",
              "      <td>1971</td>\n",
              "      <td>1971</td>\n",
              "      <td>1971</td>\n",
              "      <td>1971</td>\n",
              "      <td>1971</td>\n",
              "      <td>1971</td>\n",
              "      <td>1971</td>\n",
              "      <td>1971</td>\n",
              "      <td>1971</td>\n",
              "      <td>1971</td>\n",
              "      <td>1971</td>\n",
              "    </tr>\n",
              "    <tr>\n",
              "      <th>trust</th>\n",
              "      <td>78</td>\n",
              "      <td>78</td>\n",
              "      <td>78</td>\n",
              "      <td>78</td>\n",
              "      <td>78</td>\n",
              "      <td>78</td>\n",
              "      <td>78</td>\n",
              "      <td>78</td>\n",
              "      <td>78</td>\n",
              "      <td>78</td>\n",
              "      <td>78</td>\n",
              "      <td>78</td>\n",
              "      <td>78</td>\n",
              "      <td>78</td>\n",
              "      <td>78</td>\n",
              "      <td>78</td>\n",
              "      <td>78</td>\n",
              "      <td>78</td>\n",
              "      <td>78</td>\n",
              "      <td>77</td>\n",
              "      <td>78</td>\n",
              "      <td>77</td>\n",
              "      <td>26</td>\n",
              "      <td>77</td>\n",
              "      <td>78</td>\n",
              "      <td>78</td>\n",
              "      <td>78</td>\n",
              "      <td>78</td>\n",
              "      <td>78</td>\n",
              "      <td>78</td>\n",
              "      <td>78</td>\n",
              "      <td>78</td>\n",
              "      <td>78</td>\n",
              "      <td>78</td>\n",
              "      <td>78</td>\n",
              "      <td>78</td>\n",
              "      <td>78</td>\n",
              "      <td>78</td>\n",
              "      <td>78</td>\n",
              "    </tr>\n",
              "    <tr>\n",
              "      <th>water authority</th>\n",
              "      <td>904</td>\n",
              "      <td>904</td>\n",
              "      <td>904</td>\n",
              "      <td>904</td>\n",
              "      <td>836</td>\n",
              "      <td>904</td>\n",
              "      <td>836</td>\n",
              "      <td>904</td>\n",
              "      <td>904</td>\n",
              "      <td>904</td>\n",
              "      <td>904</td>\n",
              "      <td>904</td>\n",
              "      <td>895</td>\n",
              "      <td>904</td>\n",
              "      <td>904</td>\n",
              "      <td>904</td>\n",
              "      <td>904</td>\n",
              "      <td>904</td>\n",
              "      <td>904</td>\n",
              "      <td>878</td>\n",
              "      <td>904</td>\n",
              "      <td>902</td>\n",
              "      <td>624</td>\n",
              "      <td>825</td>\n",
              "      <td>904</td>\n",
              "      <td>904</td>\n",
              "      <td>904</td>\n",
              "      <td>904</td>\n",
              "      <td>904</td>\n",
              "      <td>904</td>\n",
              "      <td>904</td>\n",
              "      <td>904</td>\n",
              "      <td>904</td>\n",
              "      <td>904</td>\n",
              "      <td>904</td>\n",
              "      <td>904</td>\n",
              "      <td>904</td>\n",
              "      <td>904</td>\n",
              "      <td>904</td>\n",
              "    </tr>\n",
              "    <tr>\n",
              "      <th rowspan=\"2\" valign=\"top\">other</th>\n",
              "      <th>other</th>\n",
              "      <td>844</td>\n",
              "      <td>844</td>\n",
              "      <td>844</td>\n",
              "      <td>844</td>\n",
              "      <td>837</td>\n",
              "      <td>844</td>\n",
              "      <td>831</td>\n",
              "      <td>844</td>\n",
              "      <td>844</td>\n",
              "      <td>844</td>\n",
              "      <td>844</td>\n",
              "      <td>844</td>\n",
              "      <td>839</td>\n",
              "      <td>844</td>\n",
              "      <td>844</td>\n",
              "      <td>844</td>\n",
              "      <td>844</td>\n",
              "      <td>844</td>\n",
              "      <td>844</td>\n",
              "      <td>689</td>\n",
              "      <td>844</td>\n",
              "      <td>658</td>\n",
              "      <td>270</td>\n",
              "      <td>744</td>\n",
              "      <td>844</td>\n",
              "      <td>844</td>\n",
              "      <td>844</td>\n",
              "      <td>844</td>\n",
              "      <td>844</td>\n",
              "      <td>844</td>\n",
              "      <td>844</td>\n",
              "      <td>844</td>\n",
              "      <td>844</td>\n",
              "      <td>844</td>\n",
              "      <td>844</td>\n",
              "      <td>844</td>\n",
              "      <td>844</td>\n",
              "      <td>844</td>\n",
              "      <td>844</td>\n",
              "    </tr>\n",
              "    <tr>\n",
              "      <th>other - school</th>\n",
              "      <td>99</td>\n",
              "      <td>99</td>\n",
              "      <td>99</td>\n",
              "      <td>99</td>\n",
              "      <td>99</td>\n",
              "      <td>99</td>\n",
              "      <td>99</td>\n",
              "      <td>99</td>\n",
              "      <td>99</td>\n",
              "      <td>99</td>\n",
              "      <td>99</td>\n",
              "      <td>99</td>\n",
              "      <td>99</td>\n",
              "      <td>99</td>\n",
              "      <td>99</td>\n",
              "      <td>99</td>\n",
              "      <td>99</td>\n",
              "      <td>99</td>\n",
              "      <td>99</td>\n",
              "      <td>99</td>\n",
              "      <td>99</td>\n",
              "      <td>99</td>\n",
              "      <td>0</td>\n",
              "      <td>99</td>\n",
              "      <td>99</td>\n",
              "      <td>99</td>\n",
              "      <td>99</td>\n",
              "      <td>99</td>\n",
              "      <td>99</td>\n",
              "      <td>99</td>\n",
              "      <td>99</td>\n",
              "      <td>99</td>\n",
              "      <td>99</td>\n",
              "      <td>99</td>\n",
              "      <td>99</td>\n",
              "      <td>99</td>\n",
              "      <td>99</td>\n",
              "      <td>99</td>\n",
              "      <td>99</td>\n",
              "    </tr>\n",
              "    <tr>\n",
              "      <th>parastatal</th>\n",
              "      <th>parastatal</th>\n",
              "      <td>1768</td>\n",
              "      <td>1768</td>\n",
              "      <td>1768</td>\n",
              "      <td>1768</td>\n",
              "      <td>1624</td>\n",
              "      <td>1768</td>\n",
              "      <td>1626</td>\n",
              "      <td>1768</td>\n",
              "      <td>1768</td>\n",
              "      <td>1768</td>\n",
              "      <td>1768</td>\n",
              "      <td>1768</td>\n",
              "      <td>1768</td>\n",
              "      <td>1768</td>\n",
              "      <td>1768</td>\n",
              "      <td>1768</td>\n",
              "      <td>1768</td>\n",
              "      <td>1768</td>\n",
              "      <td>1768</td>\n",
              "      <td>1518</td>\n",
              "      <td>1768</td>\n",
              "      <td>1757</td>\n",
              "      <td>604</td>\n",
              "      <td>1595</td>\n",
              "      <td>1768</td>\n",
              "      <td>1768</td>\n",
              "      <td>1768</td>\n",
              "      <td>1768</td>\n",
              "      <td>1768</td>\n",
              "      <td>1768</td>\n",
              "      <td>1768</td>\n",
              "      <td>1768</td>\n",
              "      <td>1768</td>\n",
              "      <td>1768</td>\n",
              "      <td>1768</td>\n",
              "      <td>1768</td>\n",
              "      <td>1768</td>\n",
              "      <td>1768</td>\n",
              "      <td>1768</td>\n",
              "    </tr>\n",
              "    <tr>\n",
              "      <th>unknown</th>\n",
              "      <th>unknown</th>\n",
              "      <td>561</td>\n",
              "      <td>561</td>\n",
              "      <td>561</td>\n",
              "      <td>561</td>\n",
              "      <td>533</td>\n",
              "      <td>561</td>\n",
              "      <td>527</td>\n",
              "      <td>561</td>\n",
              "      <td>561</td>\n",
              "      <td>561</td>\n",
              "      <td>561</td>\n",
              "      <td>561</td>\n",
              "      <td>561</td>\n",
              "      <td>561</td>\n",
              "      <td>561</td>\n",
              "      <td>561</td>\n",
              "      <td>561</td>\n",
              "      <td>561</td>\n",
              "      <td>561</td>\n",
              "      <td>301</td>\n",
              "      <td>561</td>\n",
              "      <td>93</td>\n",
              "      <td>240</td>\n",
              "      <td>519</td>\n",
              "      <td>561</td>\n",
              "      <td>561</td>\n",
              "      <td>561</td>\n",
              "      <td>561</td>\n",
              "      <td>561</td>\n",
              "      <td>561</td>\n",
              "      <td>561</td>\n",
              "      <td>561</td>\n",
              "      <td>561</td>\n",
              "      <td>561</td>\n",
              "      <td>561</td>\n",
              "      <td>561</td>\n",
              "      <td>561</td>\n",
              "      <td>561</td>\n",
              "      <td>561</td>\n",
              "    </tr>\n",
              "    <tr>\n",
              "      <th rowspan=\"4\" valign=\"top\">user-group</th>\n",
              "      <th>vwc</th>\n",
              "      <td>40507</td>\n",
              "      <td>40507</td>\n",
              "      <td>40507</td>\n",
              "      <td>40507</td>\n",
              "      <td>37632</td>\n",
              "      <td>40507</td>\n",
              "      <td>37630</td>\n",
              "      <td>40507</td>\n",
              "      <td>40507</td>\n",
              "      <td>40507</td>\n",
              "      <td>40507</td>\n",
              "      <td>40507</td>\n",
              "      <td>40189</td>\n",
              "      <td>40507</td>\n",
              "      <td>40507</td>\n",
              "      <td>40507</td>\n",
              "      <td>40507</td>\n",
              "      <td>40507</td>\n",
              "      <td>40507</td>\n",
              "      <td>39208</td>\n",
              "      <td>40507</td>\n",
              "      <td>38057</td>\n",
              "      <td>22083</td>\n",
              "      <td>38296</td>\n",
              "      <td>40507</td>\n",
              "      <td>40507</td>\n",
              "      <td>40507</td>\n",
              "      <td>40507</td>\n",
              "      <td>40507</td>\n",
              "      <td>40507</td>\n",
              "      <td>40507</td>\n",
              "      <td>40507</td>\n",
              "      <td>40507</td>\n",
              "      <td>40507</td>\n",
              "      <td>40507</td>\n",
              "      <td>40507</td>\n",
              "      <td>40507</td>\n",
              "      <td>40507</td>\n",
              "      <td>40507</td>\n",
              "    </tr>\n",
              "    <tr>\n",
              "      <th>water board</th>\n",
              "      <td>2933</td>\n",
              "      <td>2933</td>\n",
              "      <td>2933</td>\n",
              "      <td>2933</td>\n",
              "      <td>2715</td>\n",
              "      <td>2933</td>\n",
              "      <td>2714</td>\n",
              "      <td>2933</td>\n",
              "      <td>2933</td>\n",
              "      <td>2933</td>\n",
              "      <td>2933</td>\n",
              "      <td>2933</td>\n",
              "      <td>2933</td>\n",
              "      <td>2933</td>\n",
              "      <td>2933</td>\n",
              "      <td>2933</td>\n",
              "      <td>2933</td>\n",
              "      <td>2933</td>\n",
              "      <td>2933</td>\n",
              "      <td>2893</td>\n",
              "      <td>2933</td>\n",
              "      <td>2933</td>\n",
              "      <td>2579</td>\n",
              "      <td>2830</td>\n",
              "      <td>2933</td>\n",
              "      <td>2933</td>\n",
              "      <td>2933</td>\n",
              "      <td>2933</td>\n",
              "      <td>2933</td>\n",
              "      <td>2933</td>\n",
              "      <td>2933</td>\n",
              "      <td>2933</td>\n",
              "      <td>2933</td>\n",
              "      <td>2933</td>\n",
              "      <td>2933</td>\n",
              "      <td>2933</td>\n",
              "      <td>2933</td>\n",
              "      <td>2933</td>\n",
              "      <td>2933</td>\n",
              "    </tr>\n",
              "    <tr>\n",
              "      <th>wua</th>\n",
              "      <td>2535</td>\n",
              "      <td>2535</td>\n",
              "      <td>2535</td>\n",
              "      <td>2535</td>\n",
              "      <td>2308</td>\n",
              "      <td>2535</td>\n",
              "      <td>2309</td>\n",
              "      <td>2535</td>\n",
              "      <td>2535</td>\n",
              "      <td>2535</td>\n",
              "      <td>2535</td>\n",
              "      <td>2535</td>\n",
              "      <td>2535</td>\n",
              "      <td>2535</td>\n",
              "      <td>2535</td>\n",
              "      <td>2535</td>\n",
              "      <td>2535</td>\n",
              "      <td>2535</td>\n",
              "      <td>2535</td>\n",
              "      <td>2522</td>\n",
              "      <td>2535</td>\n",
              "      <td>2529</td>\n",
              "      <td>2006</td>\n",
              "      <td>2468</td>\n",
              "      <td>2535</td>\n",
              "      <td>2535</td>\n",
              "      <td>2535</td>\n",
              "      <td>2535</td>\n",
              "      <td>2535</td>\n",
              "      <td>2535</td>\n",
              "      <td>2535</td>\n",
              "      <td>2535</td>\n",
              "      <td>2535</td>\n",
              "      <td>2535</td>\n",
              "      <td>2535</td>\n",
              "      <td>2535</td>\n",
              "      <td>2535</td>\n",
              "      <td>2535</td>\n",
              "      <td>2535</td>\n",
              "    </tr>\n",
              "    <tr>\n",
              "      <th>wug</th>\n",
              "      <td>6515</td>\n",
              "      <td>6515</td>\n",
              "      <td>6515</td>\n",
              "      <td>6515</td>\n",
              "      <td>6483</td>\n",
              "      <td>6515</td>\n",
              "      <td>6473</td>\n",
              "      <td>6515</td>\n",
              "      <td>6515</td>\n",
              "      <td>6515</td>\n",
              "      <td>6515</td>\n",
              "      <td>6515</td>\n",
              "      <td>6515</td>\n",
              "      <td>6515</td>\n",
              "      <td>6515</td>\n",
              "      <td>6515</td>\n",
              "      <td>6515</td>\n",
              "      <td>6515</td>\n",
              "      <td>6515</td>\n",
              "      <td>5537</td>\n",
              "      <td>6515</td>\n",
              "      <td>5882</td>\n",
              "      <td>1155</td>\n",
              "      <td>6340</td>\n",
              "      <td>6515</td>\n",
              "      <td>6515</td>\n",
              "      <td>6515</td>\n",
              "      <td>6515</td>\n",
              "      <td>6515</td>\n",
              "      <td>6515</td>\n",
              "      <td>6515</td>\n",
              "      <td>6515</td>\n",
              "      <td>6515</td>\n",
              "      <td>6515</td>\n",
              "      <td>6515</td>\n",
              "      <td>6515</td>\n",
              "      <td>6515</td>\n",
              "      <td>6515</td>\n",
              "      <td>6515</td>\n",
              "    </tr>\n",
              "  </tbody>\n",
              "</table>\n",
              "</div>"
            ],
            "text/plain": [
              "                                      id  ...  waterpoint_type_group\n",
              "management_group management               ...                       \n",
              "commercial       company             685  ...                    685\n",
              "                 private operator   1971  ...                   1971\n",
              "                 trust                78  ...                     78\n",
              "                 water authority     904  ...                    904\n",
              "other            other               844  ...                    844\n",
              "                 other - school       99  ...                     99\n",
              "parastatal       parastatal         1768  ...                   1768\n",
              "unknown          unknown             561  ...                    561\n",
              "user-group       vwc               40507  ...                  40507\n",
              "                 water board        2933  ...                   2933\n",
              "                 wua                2535  ...                   2535\n",
              "                 wug                6515  ...                   6515\n",
              "\n",
              "[12 rows x 39 columns]"
            ]
          },
          "metadata": {},
          "execution_count": 16
        }
      ]
    },
    {
      "cell_type": "code",
      "metadata": {
        "colab": {
          "base_uri": "https://localhost:8080/"
        },
        "id": "IjWub55TrQEn",
        "outputId": "190973e2-4b1d-406d-a7f6-2ec67b0504ec"
      },
      "source": [
        "df['quantity'].value_counts()"
      ],
      "execution_count": null,
      "outputs": [
        {
          "output_type": "execute_result",
          "data": {
            "text/plain": [
              "enough          33186\n",
              "insufficient    15129\n",
              "dry              6246\n",
              "seasonal         4050\n",
              "unknown           789\n",
              "Name: quantity, dtype: int64"
            ]
          },
          "metadata": {},
          "execution_count": 17
        }
      ]
    },
    {
      "cell_type": "code",
      "metadata": {
        "colab": {
          "base_uri": "https://localhost:8080/"
        },
        "id": "OTmpm8W4rS4K",
        "outputId": "30180213-2ebf-4c19-b656-f982d074e2dd"
      },
      "source": [
        "df['quantity_group'].value_counts()"
      ],
      "execution_count": null,
      "outputs": [
        {
          "output_type": "execute_result",
          "data": {
            "text/plain": [
              "enough          33186\n",
              "insufficient    15129\n",
              "dry              6246\n",
              "seasonal         4050\n",
              "unknown           789\n",
              "Name: quantity_group, dtype: int64"
            ]
          },
          "metadata": {},
          "execution_count": 18
        }
      ]
    },
    {
      "cell_type": "code",
      "metadata": {
        "colab": {
          "base_uri": "https://localhost:8080/",
          "height": 279
        },
        "id": "COaaeuNDrXdP",
        "outputId": "f784a584-90d0-4e43-af79-4e9f7eb21fd2"
      },
      "source": [
        "ax = sns.countplot(x='quantity', hue=\"status_group\", data=df)"
      ],
      "execution_count": null,
      "outputs": [
        {
          "output_type": "display_data",
          "data": {
            "image/png": "[encoded data removed]",
            "text/plain": [
              "<Figure size 432x288 with 1 Axes>"
            ]
          },
          "metadata": {
            "needs_background": "light"
          }
        }
      ]
    },
    {
      "cell_type": "code",
      "metadata": {
        "colab": {
          "base_uri": "https://localhost:8080/"
        },
        "id": "xOjgc90srdHo",
        "outputId": "d2c5f397-cca2-4c1f-eca5-9b2f0b93c423"
      },
      "source": [
        "df['source'].value_counts()"
      ],
      "execution_count": null,
      "outputs": [
        {
          "output_type": "execute_result",
          "data": {
            "text/plain": [
              "spring                  17021\n",
              "shallow well            16824\n",
              "machine dbh             11075\n",
              "river                    9612\n",
              "rainwater harvesting     2295\n",
              "hand dtw                  874\n",
              "lake                      765\n",
              "dam                       656\n",
              "other                     212\n",
              "unknown                    66\n",
              "Name: source, dtype: int64"
            ]
          },
          "metadata": {},
          "execution_count": 20
        }
      ]
    },
    {
      "cell_type": "code",
      "metadata": {
        "colab": {
          "base_uri": "https://localhost:8080/"
        },
        "id": "dj064wNOrrGC",
        "outputId": "5d9b88f1-b1f0-4433-eb4d-f377c4a43b9e"
      },
      "source": [
        "df['source_type'].value_counts()"
      ],
      "execution_count": null,
      "outputs": [
        {
          "output_type": "execute_result",
          "data": {
            "text/plain": [
              "spring                  17021\n",
              "shallow well            16824\n",
              "borehole                11949\n",
              "river/lake              10377\n",
              "rainwater harvesting     2295\n",
              "dam                       656\n",
              "other                     278\n",
              "Name: source_type, dtype: int64"
            ]
          },
          "metadata": {},
          "execution_count": 21
        }
      ]
    },
    {
      "cell_type": "code",
      "metadata": {
        "colab": {
          "base_uri": "https://localhost:8080/"
        },
        "id": "ZbUa4odkrtP8",
        "outputId": "ac79cc70-7978-475f-92d3-cef5121f495c"
      },
      "source": [
        "df['source_class'].value_counts()"
      ],
      "execution_count": null,
      "outputs": [
        {
          "output_type": "execute_result",
          "data": {
            "text/plain": [
              "groundwater    45794\n",
              "surface        13328\n",
              "unknown          278\n",
              "Name: source_class, dtype: int64"
            ]
          },
          "metadata": {},
          "execution_count": 22
        }
      ]
    },
    {
      "cell_type": "code",
      "metadata": {
        "colab": {
          "base_uri": "https://localhost:8080/",
          "height": 466
        },
        "id": "7UQaG_JjrzfF",
        "outputId": "7298d1bc-2816-41d6-fe35-f3c8c828f70a"
      },
      "source": [
        "df.groupby(['source_class','source']).count()\n",
        "# to see how many sub-groups have in source_class according to source column"
      ],
      "execution_count": null,
      "outputs": [
        {
          "output_type": "execute_result",
          "data": {
            "text/html": [
              "<div>\n",
              "<style scoped>\n",
              "    .dataframe tbody tr th:only-of-type {\n",
              "        vertical-align: middle;\n",
              "    }\n",
              "\n",
              "    .dataframe tbody tr th {\n",
              "        vertical-align: top;\n",
              "    }\n",
              "\n",
              "    .dataframe thead th {\n",
              "        text-align: right;\n",
              "    }\n",
              "</style>\n",
              "<table border=\"1\" class=\"dataframe\">\n",
              "  <thead>\n",
              "    <tr style=\"text-align: right;\">\n",
              "      <th></th>\n",
              "      <th></th>\n",
              "      <th>id</th>\n",
              "      <th>status_group</th>\n",
              "      <th>amount_tsh</th>\n",
              "      <th>date_recorded</th>\n",
              "      <th>funder</th>\n",
              "      <th>gps_height</th>\n",
              "      <th>installer</th>\n",
              "      <th>longitude</th>\n",
              "      <th>latitude</th>\n",
              "      <th>wpt_name</th>\n",
              "      <th>num_private</th>\n",
              "      <th>basin</th>\n",
              "      <th>subvillage</th>\n",
              "      <th>region</th>\n",
              "      <th>region_code</th>\n",
              "      <th>district_code</th>\n",
              "      <th>lga</th>\n",
              "      <th>ward</th>\n",
              "      <th>population</th>\n",
              "      <th>public_meeting</th>\n",
              "      <th>recorded_by</th>\n",
              "      <th>scheme_management</th>\n",
              "      <th>scheme_name</th>\n",
              "      <th>permit</th>\n",
              "      <th>construction_year</th>\n",
              "      <th>extraction_type</th>\n",
              "      <th>extraction_type_group</th>\n",
              "      <th>extraction_type_class</th>\n",
              "      <th>management</th>\n",
              "      <th>management_group</th>\n",
              "      <th>payment</th>\n",
              "      <th>payment_type</th>\n",
              "      <th>water_quality</th>\n",
              "      <th>quality_group</th>\n",
              "      <th>quantity</th>\n",
              "      <th>quantity_group</th>\n",
              "      <th>source_type</th>\n",
              "      <th>waterpoint_type</th>\n",
              "      <th>waterpoint_type_group</th>\n",
              "    </tr>\n",
              "    <tr>\n",
              "      <th>source_class</th>\n",
              "      <th>source</th>\n",
              "      <th></th>\n",
              "      <th></th>\n",
              "      <th></th>\n",
              "      <th></th>\n",
              "      <th></th>\n",
              "      <th></th>\n",
              "      <th></th>\n",
              "      <th></th>\n",
              "      <th></th>\n",
              "      <th></th>\n",
              "      <th></th>\n",
              "      <th></th>\n",
              "      <th></th>\n",
              "      <th></th>\n",
              "      <th></th>\n",
              "      <th></th>\n",
              "      <th></th>\n",
              "      <th></th>\n",
              "      <th></th>\n",
              "      <th></th>\n",
              "      <th></th>\n",
              "      <th></th>\n",
              "      <th></th>\n",
              "      <th></th>\n",
              "      <th></th>\n",
              "      <th></th>\n",
              "      <th></th>\n",
              "      <th></th>\n",
              "      <th></th>\n",
              "      <th></th>\n",
              "      <th></th>\n",
              "      <th></th>\n",
              "      <th></th>\n",
              "      <th></th>\n",
              "      <th></th>\n",
              "      <th></th>\n",
              "      <th></th>\n",
              "      <th></th>\n",
              "      <th></th>\n",
              "    </tr>\n",
              "  </thead>\n",
              "  <tbody>\n",
              "    <tr>\n",
              "      <th rowspan=\"4\" valign=\"top\">groundwater</th>\n",
              "      <th>hand dtw</th>\n",
              "      <td>874</td>\n",
              "      <td>874</td>\n",
              "      <td>874</td>\n",
              "      <td>874</td>\n",
              "      <td>868</td>\n",
              "      <td>874</td>\n",
              "      <td>868</td>\n",
              "      <td>874</td>\n",
              "      <td>874</td>\n",
              "      <td>874</td>\n",
              "      <td>874</td>\n",
              "      <td>874</td>\n",
              "      <td>874</td>\n",
              "      <td>874</td>\n",
              "      <td>874</td>\n",
              "      <td>874</td>\n",
              "      <td>874</td>\n",
              "      <td>874</td>\n",
              "      <td>874</td>\n",
              "      <td>787</td>\n",
              "      <td>874</td>\n",
              "      <td>867</td>\n",
              "      <td>122</td>\n",
              "      <td>869</td>\n",
              "      <td>874</td>\n",
              "      <td>874</td>\n",
              "      <td>874</td>\n",
              "      <td>874</td>\n",
              "      <td>874</td>\n",
              "      <td>874</td>\n",
              "      <td>874</td>\n",
              "      <td>874</td>\n",
              "      <td>874</td>\n",
              "      <td>874</td>\n",
              "      <td>874</td>\n",
              "      <td>874</td>\n",
              "      <td>874</td>\n",
              "      <td>874</td>\n",
              "      <td>874</td>\n",
              "    </tr>\n",
              "    <tr>\n",
              "      <th>machine dbh</th>\n",
              "      <td>11075</td>\n",
              "      <td>11075</td>\n",
              "      <td>11075</td>\n",
              "      <td>11075</td>\n",
              "      <td>10252</td>\n",
              "      <td>11075</td>\n",
              "      <td>10246</td>\n",
              "      <td>11075</td>\n",
              "      <td>11075</td>\n",
              "      <td>11075</td>\n",
              "      <td>11075</td>\n",
              "      <td>11075</td>\n",
              "      <td>10849</td>\n",
              "      <td>11075</td>\n",
              "      <td>11075</td>\n",
              "      <td>11075</td>\n",
              "      <td>11075</td>\n",
              "      <td>11075</td>\n",
              "      <td>11075</td>\n",
              "      <td>10253</td>\n",
              "      <td>11075</td>\n",
              "      <td>10577</td>\n",
              "      <td>5491</td>\n",
              "      <td>10293</td>\n",
              "      <td>11075</td>\n",
              "      <td>11075</td>\n",
              "      <td>11075</td>\n",
              "      <td>11075</td>\n",
              "      <td>11075</td>\n",
              "      <td>11075</td>\n",
              "      <td>11075</td>\n",
              "      <td>11075</td>\n",
              "      <td>11075</td>\n",
              "      <td>11075</td>\n",
              "      <td>11075</td>\n",
              "      <td>11075</td>\n",
              "      <td>11075</td>\n",
              "      <td>11075</td>\n",
              "      <td>11075</td>\n",
              "    </tr>\n",
              "    <tr>\n",
              "      <th>shallow well</th>\n",
              "      <td>16824</td>\n",
              "      <td>16824</td>\n",
              "      <td>16824</td>\n",
              "      <td>16824</td>\n",
              "      <td>16302</td>\n",
              "      <td>16824</td>\n",
              "      <td>16286</td>\n",
              "      <td>16824</td>\n",
              "      <td>16824</td>\n",
              "      <td>16824</td>\n",
              "      <td>16824</td>\n",
              "      <td>16824</td>\n",
              "      <td>16817</td>\n",
              "      <td>16824</td>\n",
              "      <td>16824</td>\n",
              "      <td>16824</td>\n",
              "      <td>16824</td>\n",
              "      <td>16824</td>\n",
              "      <td>16824</td>\n",
              "      <td>15522</td>\n",
              "      <td>16824</td>\n",
              "      <td>14127</td>\n",
              "      <td>1129</td>\n",
              "      <td>16253</td>\n",
              "      <td>16824</td>\n",
              "      <td>16824</td>\n",
              "      <td>16824</td>\n",
              "      <td>16824</td>\n",
              "      <td>16824</td>\n",
              "      <td>16824</td>\n",
              "      <td>16824</td>\n",
              "      <td>16824</td>\n",
              "      <td>16824</td>\n",
              "      <td>16824</td>\n",
              "      <td>16824</td>\n",
              "      <td>16824</td>\n",
              "      <td>16824</td>\n",
              "      <td>16824</td>\n",
              "      <td>16824</td>\n",
              "    </tr>\n",
              "    <tr>\n",
              "      <th>spring</th>\n",
              "      <td>17021</td>\n",
              "      <td>17021</td>\n",
              "      <td>17021</td>\n",
              "      <td>17021</td>\n",
              "      <td>15870</td>\n",
              "      <td>17021</td>\n",
              "      <td>15870</td>\n",
              "      <td>17021</td>\n",
              "      <td>17021</td>\n",
              "      <td>17021</td>\n",
              "      <td>17021</td>\n",
              "      <td>17021</td>\n",
              "      <td>16886</td>\n",
              "      <td>17021</td>\n",
              "      <td>17021</td>\n",
              "      <td>17021</td>\n",
              "      <td>17021</td>\n",
              "      <td>17021</td>\n",
              "      <td>17021</td>\n",
              "      <td>16384</td>\n",
              "      <td>17021</td>\n",
              "      <td>16755</td>\n",
              "      <td>14903</td>\n",
              "      <td>15981</td>\n",
              "      <td>17021</td>\n",
              "      <td>17021</td>\n",
              "      <td>17021</td>\n",
              "      <td>17021</td>\n",
              "      <td>17021</td>\n",
              "      <td>17021</td>\n",
              "      <td>17021</td>\n",
              "      <td>17021</td>\n",
              "      <td>17021</td>\n",
              "      <td>17021</td>\n",
              "      <td>17021</td>\n",
              "      <td>17021</td>\n",
              "      <td>17021</td>\n",
              "      <td>17021</td>\n",
              "      <td>17021</td>\n",
              "    </tr>\n",
              "    <tr>\n",
              "      <th rowspan=\"4\" valign=\"top\">surface</th>\n",
              "      <th>dam</th>\n",
              "      <td>656</td>\n",
              "      <td>656</td>\n",
              "      <td>656</td>\n",
              "      <td>656</td>\n",
              "      <td>647</td>\n",
              "      <td>656</td>\n",
              "      <td>646</td>\n",
              "      <td>656</td>\n",
              "      <td>656</td>\n",
              "      <td>656</td>\n",
              "      <td>656</td>\n",
              "      <td>656</td>\n",
              "      <td>656</td>\n",
              "      <td>656</td>\n",
              "      <td>656</td>\n",
              "      <td>656</td>\n",
              "      <td>656</td>\n",
              "      <td>656</td>\n",
              "      <td>656</td>\n",
              "      <td>614</td>\n",
              "      <td>656</td>\n",
              "      <td>644</td>\n",
              "      <td>474</td>\n",
              "      <td>630</td>\n",
              "      <td>656</td>\n",
              "      <td>656</td>\n",
              "      <td>656</td>\n",
              "      <td>656</td>\n",
              "      <td>656</td>\n",
              "      <td>656</td>\n",
              "      <td>656</td>\n",
              "      <td>656</td>\n",
              "      <td>656</td>\n",
              "      <td>656</td>\n",
              "      <td>656</td>\n",
              "      <td>656</td>\n",
              "      <td>656</td>\n",
              "      <td>656</td>\n",
              "      <td>656</td>\n",
              "    </tr>\n",
              "    <tr>\n",
              "      <th>lake</th>\n",
              "      <td>765</td>\n",
              "      <td>765</td>\n",
              "      <td>765</td>\n",
              "      <td>765</td>\n",
              "      <td>763</td>\n",
              "      <td>765</td>\n",
              "      <td>762</td>\n",
              "      <td>765</td>\n",
              "      <td>765</td>\n",
              "      <td>765</td>\n",
              "      <td>765</td>\n",
              "      <td>765</td>\n",
              "      <td>764</td>\n",
              "      <td>765</td>\n",
              "      <td>765</td>\n",
              "      <td>765</td>\n",
              "      <td>765</td>\n",
              "      <td>765</td>\n",
              "      <td>765</td>\n",
              "      <td>628</td>\n",
              "      <td>765</td>\n",
              "      <td>741</td>\n",
              "      <td>607</td>\n",
              "      <td>765</td>\n",
              "      <td>765</td>\n",
              "      <td>765</td>\n",
              "      <td>765</td>\n",
              "      <td>765</td>\n",
              "      <td>765</td>\n",
              "      <td>765</td>\n",
              "      <td>765</td>\n",
              "      <td>765</td>\n",
              "      <td>765</td>\n",
              "      <td>765</td>\n",
              "      <td>765</td>\n",
              "      <td>765</td>\n",
              "      <td>765</td>\n",
              "      <td>765</td>\n",
              "      <td>765</td>\n",
              "    </tr>\n",
              "    <tr>\n",
              "      <th>rainwater harvesting</th>\n",
              "      <td>2295</td>\n",
              "      <td>2295</td>\n",
              "      <td>2295</td>\n",
              "      <td>2295</td>\n",
              "      <td>2099</td>\n",
              "      <td>2295</td>\n",
              "      <td>2096</td>\n",
              "      <td>2295</td>\n",
              "      <td>2295</td>\n",
              "      <td>2295</td>\n",
              "      <td>2295</td>\n",
              "      <td>2295</td>\n",
              "      <td>2293</td>\n",
              "      <td>2295</td>\n",
              "      <td>2295</td>\n",
              "      <td>2295</td>\n",
              "      <td>2295</td>\n",
              "      <td>2295</td>\n",
              "      <td>2295</td>\n",
              "      <td>2089</td>\n",
              "      <td>2295</td>\n",
              "      <td>2065</td>\n",
              "      <td>319</td>\n",
              "      <td>2039</td>\n",
              "      <td>2295</td>\n",
              "      <td>2295</td>\n",
              "      <td>2295</td>\n",
              "      <td>2295</td>\n",
              "      <td>2295</td>\n",
              "      <td>2295</td>\n",
              "      <td>2295</td>\n",
              "      <td>2295</td>\n",
              "      <td>2295</td>\n",
              "      <td>2295</td>\n",
              "      <td>2295</td>\n",
              "      <td>2295</td>\n",
              "      <td>2295</td>\n",
              "      <td>2295</td>\n",
              "      <td>2295</td>\n",
              "    </tr>\n",
              "    <tr>\n",
              "      <th>river</th>\n",
              "      <td>9612</td>\n",
              "      <td>9612</td>\n",
              "      <td>9612</td>\n",
              "      <td>9612</td>\n",
              "      <td>8715</td>\n",
              "      <td>9612</td>\n",
              "      <td>8721</td>\n",
              "      <td>9612</td>\n",
              "      <td>9612</td>\n",
              "      <td>9612</td>\n",
              "      <td>9612</td>\n",
              "      <td>9612</td>\n",
              "      <td>9612</td>\n",
              "      <td>9612</td>\n",
              "      <td>9612</td>\n",
              "      <td>9612</td>\n",
              "      <td>9612</td>\n",
              "      <td>9612</td>\n",
              "      <td>9612</td>\n",
              "      <td>9543</td>\n",
              "      <td>9612</td>\n",
              "      <td>9506</td>\n",
              "      <td>8020</td>\n",
              "      <td>9248</td>\n",
              "      <td>9612</td>\n",
              "      <td>9612</td>\n",
              "      <td>9612</td>\n",
              "      <td>9612</td>\n",
              "      <td>9612</td>\n",
              "      <td>9612</td>\n",
              "      <td>9612</td>\n",
              "      <td>9612</td>\n",
              "      <td>9612</td>\n",
              "      <td>9612</td>\n",
              "      <td>9612</td>\n",
              "      <td>9612</td>\n",
              "      <td>9612</td>\n",
              "      <td>9612</td>\n",
              "      <td>9612</td>\n",
              "    </tr>\n",
              "    <tr>\n",
              "      <th rowspan=\"2\" valign=\"top\">unknown</th>\n",
              "      <th>other</th>\n",
              "      <td>212</td>\n",
              "      <td>212</td>\n",
              "      <td>212</td>\n",
              "      <td>212</td>\n",
              "      <td>204</td>\n",
              "      <td>212</td>\n",
              "      <td>204</td>\n",
              "      <td>212</td>\n",
              "      <td>212</td>\n",
              "      <td>212</td>\n",
              "      <td>212</td>\n",
              "      <td>212</td>\n",
              "      <td>212</td>\n",
              "      <td>212</td>\n",
              "      <td>212</td>\n",
              "      <td>212</td>\n",
              "      <td>212</td>\n",
              "      <td>212</td>\n",
              "      <td>212</td>\n",
              "      <td>201</td>\n",
              "      <td>212</td>\n",
              "      <td>195</td>\n",
              "      <td>144</td>\n",
              "      <td>208</td>\n",
              "      <td>212</td>\n",
              "      <td>212</td>\n",
              "      <td>212</td>\n",
              "      <td>212</td>\n",
              "      <td>212</td>\n",
              "      <td>212</td>\n",
              "      <td>212</td>\n",
              "      <td>212</td>\n",
              "      <td>212</td>\n",
              "      <td>212</td>\n",
              "      <td>212</td>\n",
              "      <td>212</td>\n",
              "      <td>212</td>\n",
              "      <td>212</td>\n",
              "      <td>212</td>\n",
              "    </tr>\n",
              "    <tr>\n",
              "      <th>unknown</th>\n",
              "      <td>66</td>\n",
              "      <td>66</td>\n",
              "      <td>66</td>\n",
              "      <td>66</td>\n",
              "      <td>45</td>\n",
              "      <td>66</td>\n",
              "      <td>46</td>\n",
              "      <td>66</td>\n",
              "      <td>66</td>\n",
              "      <td>66</td>\n",
              "      <td>66</td>\n",
              "      <td>66</td>\n",
              "      <td>66</td>\n",
              "      <td>66</td>\n",
              "      <td>66</td>\n",
              "      <td>66</td>\n",
              "      <td>66</td>\n",
              "      <td>66</td>\n",
              "      <td>66</td>\n",
              "      <td>45</td>\n",
              "      <td>66</td>\n",
              "      <td>46</td>\n",
              "      <td>25</td>\n",
              "      <td>58</td>\n",
              "      <td>66</td>\n",
              "      <td>66</td>\n",
              "      <td>66</td>\n",
              "      <td>66</td>\n",
              "      <td>66</td>\n",
              "      <td>66</td>\n",
              "      <td>66</td>\n",
              "      <td>66</td>\n",
              "      <td>66</td>\n",
              "      <td>66</td>\n",
              "      <td>66</td>\n",
              "      <td>66</td>\n",
              "      <td>66</td>\n",
              "      <td>66</td>\n",
              "      <td>66</td>\n",
              "    </tr>\n",
              "  </tbody>\n",
              "</table>\n",
              "</div>"
            ],
            "text/plain": [
              "                                      id  ...  waterpoint_type_group\n",
              "source_class source                       ...                       \n",
              "groundwater  hand dtw                874  ...                    874\n",
              "             machine dbh           11075  ...                  11075\n",
              "             shallow well          16824  ...                  16824\n",
              "             spring                17021  ...                  17021\n",
              "surface      dam                     656  ...                    656\n",
              "             lake                    765  ...                    765\n",
              "             rainwater harvesting   2295  ...                   2295\n",
              "             river                  9612  ...                   9612\n",
              "unknown      other                   212  ...                    212\n",
              "             unknown                  66  ...                     66\n",
              "\n",
              "[10 rows x 39 columns]"
            ]
          },
          "metadata": {},
          "execution_count": 23
        }
      ]
    },
    {
      "cell_type": "code",
      "metadata": {
        "colab": {
          "base_uri": "https://localhost:8080/",
          "height": 280
        },
        "id": "x4csNPm7r6LK",
        "outputId": "96c4ee98-055c-40c3-bf43-35ec518b12a0"
      },
      "source": [
        "ax = sns.countplot(x='source_class', hue=\"status_group\", data=df)"
      ],
      "execution_count": null,
      "outputs": [
        {
          "output_type": "display_data",
          "data": {
            "image/png": "[encoded data removed]",
            "text/plain": [
              "<Figure size 432x288 with 1 Axes>"
            ]
          },
          "metadata": {
            "needs_background": "light"
          }
        }
      ]
    },
    {
      "cell_type": "code",
      "metadata": {
        "colab": {
          "base_uri": "https://localhost:8080/",
          "height": 592
        },
        "id": "xFW2QxMgsEyp",
        "outputId": "6b0e4e4a-ea97-432c-de61-16825b6c69ae"
      },
      "source": [
        "plt.figure(figsize=(20,10))\n",
        "ax = sns.countplot(x='source', hue=\"status_group\", data=df)\n",
        "\n"
      ],
      "execution_count": null,
      "outputs": [
        {
          "output_type": "display_data",
          "data": {
            "image/png": "[encoded data removed]",
            "text/plain": [
              "<Figure size 1440x720 with 1 Axes>"
            ]
          },
          "metadata": {
            "needs_background": "light"
          }
        }
      ]
    },
    {
      "cell_type": "code",
      "metadata": {
        "colab": {
          "base_uri": "https://localhost:8080/"
        },
        "id": "EvyCswjesLJq",
        "outputId": "8f8dec92-67a6-4ea6-9afc-7fb8b105801a"
      },
      "source": [
        "df['water_quality'].value_counts()"
      ],
      "execution_count": null,
      "outputs": [
        {
          "output_type": "execute_result",
          "data": {
            "text/plain": [
              "soft                  50818\n",
              "salty                  4856\n",
              "unknown                1876\n",
              "milky                   804\n",
              "coloured                490\n",
              "salty abandoned         339\n",
              "fluoride                200\n",
              "fluoride abandoned       17\n",
              "Name: water_quality, dtype: int64"
            ]
          },
          "metadata": {},
          "execution_count": 26
        }
      ]
    },
    {
      "cell_type": "code",
      "metadata": {
        "colab": {
          "base_uri": "https://localhost:8080/"
        },
        "id": "63KLrzm1sQDb",
        "outputId": "28499e29-f853-434e-c395-f1e18fdf3627"
      },
      "source": [
        "df['quality_group'].value_counts()"
      ],
      "execution_count": null,
      "outputs": [
        {
          "output_type": "execute_result",
          "data": {
            "text/plain": [
              "good        50818\n",
              "salty        5195\n",
              "unknown      1876\n",
              "milky         804\n",
              "colored       490\n",
              "fluoride      217\n",
              "Name: quality_group, dtype: int64"
            ]
          },
          "metadata": {},
          "execution_count": 27
        }
      ]
    },
    {
      "cell_type": "code",
      "metadata": {
        "colab": {
          "base_uri": "https://localhost:8080/",
          "height": 593
        },
        "id": "DuOz-GASsURu",
        "outputId": "95f139ae-61d3-49fc-c616-de8b4c96f6af"
      },
      "source": [
        "plt.figure(figsize=(20,10))\n",
        "ax = sns.countplot(x='water_quality', hue=\"status_group\", data=df)"
      ],
      "execution_count": null,
      "outputs": [
        {
          "output_type": "display_data",
          "data": {
            "image/png": "[encoded data removed]",
            "text/plain": [
              "<Figure size 1440x720 with 1 Axes>"
            ]
          },
          "metadata": {
            "needs_background": "light"
          }
        }
      ]
    },
    {
      "cell_type": "code",
      "metadata": {
        "colab": {
          "base_uri": "https://localhost:8080/",
          "height": 592
        },
        "id": "Ro-6JqUdsafG",
        "outputId": "137a593e-f682-4226-bde7-786da2519f23"
      },
      "source": [
        "plt.figure(figsize=(20,10))\n",
        "ax = sns.countplot(x='status_group', hue=\"water_quality\", data=df)"
      ],
      "execution_count": null,
      "outputs": [
        {
          "output_type": "display_data",
          "data": {
            "image/png": "[encoded data removed]",
            "text/plain": [
              "<Figure size 1440x720 with 1 Axes>"
            ]
          },
          "metadata": {
            "needs_background": "light"
          }
        }
      ]
    },
    {
      "cell_type": "code",
      "metadata": {
        "colab": {
          "base_uri": "https://localhost:8080/"
        },
        "id": "hXQTasZcsgcx",
        "outputId": "906b4559-00eb-441a-9fd5-3dd5ffff2524"
      },
      "source": [
        "df['payment'].value_counts()"
      ],
      "execution_count": null,
      "outputs": [
        {
          "output_type": "execute_result",
          "data": {
            "text/plain": [
              "never pay                25348\n",
              "pay per bucket            8985\n",
              "pay monthly               8300\n",
              "unknown                   8157\n",
              "pay when scheme fails     3914\n",
              "pay annually              3642\n",
              "other                     1054\n",
              "Name: payment, dtype: int64"
            ]
          },
          "metadata": {},
          "execution_count": 30
        }
      ]
    },
    {
      "cell_type": "code",
      "metadata": {
        "colab": {
          "base_uri": "https://localhost:8080/"
        },
        "id": "xvVPlI09sgZX",
        "outputId": "4fb4059d-4f68-4420-9790-a98b63b99c48"
      },
      "source": [
        "df['payment_type'].value_counts()"
      ],
      "execution_count": null,
      "outputs": [
        {
          "output_type": "execute_result",
          "data": {
            "text/plain": [
              "never pay     25348\n",
              "per bucket     8985\n",
              "monthly        8300\n",
              "unknown        8157\n",
              "on failure     3914\n",
              "annually       3642\n",
              "other          1054\n",
              "Name: payment_type, dtype: int64"
            ]
          },
          "metadata": {},
          "execution_count": 31
        }
      ]
    },
    {
      "cell_type": "code",
      "metadata": {
        "colab": {
          "base_uri": "https://localhost:8080/",
          "height": 592
        },
        "id": "f2fI-9z9sp_Y",
        "outputId": "546fc9d2-e67e-42a0-8119-19f99f4c034c"
      },
      "source": [
        "plt.figure(figsize=(20,10))\n",
        "ax = sns.countplot(x='payment', hue=\"status_group\", data=df)"
      ],
      "execution_count": null,
      "outputs": [
        {
          "output_type": "display_data",
          "data": {
            "image/png": "[encoded data removed]",
            "text/plain": [
              "<Figure size 1440x720 with 1 Axes>"
            ]
          },
          "metadata": {
            "needs_background": "light"
          }
        }
      ]
    },
    {
      "cell_type": "code",
      "metadata": {
        "colab": {
          "base_uri": "https://localhost:8080/"
        },
        "id": "TCA0r_Gjsy0c",
        "outputId": "63276d60-bed1-4a80-da26-393d568ae36a"
      },
      "source": [
        "df['extraction_type'].value_counts()"
      ],
      "execution_count": null,
      "outputs": [
        {
          "output_type": "execute_result",
          "data": {
            "text/plain": [
              "gravity                      26780\n",
              "nira/tanira                   8154\n",
              "other                         6430\n",
              "submersible                   4764\n",
              "swn 80                        3670\n",
              "mono                          2865\n",
              "india mark ii                 2400\n",
              "afridev                       1770\n",
              "ksb                           1415\n",
              "other - rope pump              451\n",
              "other - swn 81                 229\n",
              "windmill                       117\n",
              "india mark iii                  98\n",
              "cemo                            90\n",
              "other - play pump               85\n",
              "walimi                          48\n",
              "climax                          32\n",
              "other - mkulima/shinyanga        2\n",
              "Name: extraction_type, dtype: int64"
            ]
          },
          "metadata": {},
          "execution_count": 33
        }
      ]
    },
    {
      "cell_type": "code",
      "metadata": {
        "colab": {
          "base_uri": "https://localhost:8080/"
        },
        "id": "KIKfgApQs3_r",
        "outputId": "56a90e1b-0b6e-485d-e200-1e1f7ebab728"
      },
      "source": [
        "df['extraction_type_group'].value_counts()"
      ],
      "execution_count": null,
      "outputs": [
        {
          "output_type": "execute_result",
          "data": {
            "text/plain": [
              "gravity            26780\n",
              "nira/tanira         8154\n",
              "other               6430\n",
              "submersible         6179\n",
              "swn 80              3670\n",
              "mono                2865\n",
              "india mark ii       2400\n",
              "afridev             1770\n",
              "rope pump            451\n",
              "other handpump       364\n",
              "other motorpump      122\n",
              "wind-powered         117\n",
              "india mark iii        98\n",
              "Name: extraction_type_group, dtype: int64"
            ]
          },
          "metadata": {},
          "execution_count": 34
        }
      ]
    },
    {
      "cell_type": "code",
      "metadata": {
        "colab": {
          "base_uri": "https://localhost:8080/"
        },
        "id": "UaRJkDv0s9s2",
        "outputId": "2febe8a3-099a-47f7-e530-acc87229361d"
      },
      "source": [
        "df['extraction_type_class'].value_counts()"
      ],
      "execution_count": null,
      "outputs": [
        {
          "output_type": "execute_result",
          "data": {
            "text/plain": [
              "gravity         26780\n",
              "handpump        16456\n",
              "other            6430\n",
              "submersible      6179\n",
              "motorpump        2987\n",
              "rope pump         451\n",
              "wind-powered      117\n",
              "Name: extraction_type_class, dtype: int64"
            ]
          },
          "metadata": {},
          "execution_count": 35
        }
      ]
    },
    {
      "cell_type": "code",
      "metadata": {
        "colab": {
          "base_uri": "https://localhost:8080/",
          "height": 508
        },
        "id": "n8O6qJG7tCtb",
        "outputId": "9ff3b985-acdc-4fff-e473-daaa8f9ef332"
      },
      "source": [
        "df.groupby(['extraction_type_class','extraction_type_group']).count()"
      ],
      "execution_count": null,
      "outputs": [
        {
          "output_type": "execute_result",
          "data": {
            "text/html": [
              "<div>\n",
              "<style scoped>\n",
              "    .dataframe tbody tr th:only-of-type {\n",
              "        vertical-align: middle;\n",
              "    }\n",
              "\n",
              "    .dataframe tbody tr th {\n",
              "        vertical-align: top;\n",
              "    }\n",
              "\n",
              "    .dataframe thead th {\n",
              "        text-align: right;\n",
              "    }\n",
              "</style>\n",
              "<table border=\"1\" class=\"dataframe\">\n",
              "  <thead>\n",
              "    <tr style=\"text-align: right;\">\n",
              "      <th></th>\n",
              "      <th></th>\n",
              "      <th>id</th>\n",
              "      <th>status_group</th>\n",
              "      <th>amount_tsh</th>\n",
              "      <th>date_recorded</th>\n",
              "      <th>funder</th>\n",
              "      <th>gps_height</th>\n",
              "      <th>installer</th>\n",
              "      <th>longitude</th>\n",
              "      <th>latitude</th>\n",
              "      <th>wpt_name</th>\n",
              "      <th>num_private</th>\n",
              "      <th>basin</th>\n",
              "      <th>subvillage</th>\n",
              "      <th>region</th>\n",
              "      <th>region_code</th>\n",
              "      <th>district_code</th>\n",
              "      <th>lga</th>\n",
              "      <th>ward</th>\n",
              "      <th>population</th>\n",
              "      <th>public_meeting</th>\n",
              "      <th>recorded_by</th>\n",
              "      <th>scheme_management</th>\n",
              "      <th>scheme_name</th>\n",
              "      <th>permit</th>\n",
              "      <th>construction_year</th>\n",
              "      <th>extraction_type</th>\n",
              "      <th>management</th>\n",
              "      <th>management_group</th>\n",
              "      <th>payment</th>\n",
              "      <th>payment_type</th>\n",
              "      <th>water_quality</th>\n",
              "      <th>quality_group</th>\n",
              "      <th>quantity</th>\n",
              "      <th>quantity_group</th>\n",
              "      <th>source</th>\n",
              "      <th>source_type</th>\n",
              "      <th>source_class</th>\n",
              "      <th>waterpoint_type</th>\n",
              "      <th>waterpoint_type_group</th>\n",
              "    </tr>\n",
              "    <tr>\n",
              "      <th>extraction_type_class</th>\n",
              "      <th>extraction_type_group</th>\n",
              "      <th></th>\n",
              "      <th></th>\n",
              "      <th></th>\n",
              "      <th></th>\n",
              "      <th></th>\n",
              "      <th></th>\n",
              "      <th></th>\n",
              "      <th></th>\n",
              "      <th></th>\n",
              "      <th></th>\n",
              "      <th></th>\n",
              "      <th></th>\n",
              "      <th></th>\n",
              "      <th></th>\n",
              "      <th></th>\n",
              "      <th></th>\n",
              "      <th></th>\n",
              "      <th></th>\n",
              "      <th></th>\n",
              "      <th></th>\n",
              "      <th></th>\n",
              "      <th></th>\n",
              "      <th></th>\n",
              "      <th></th>\n",
              "      <th></th>\n",
              "      <th></th>\n",
              "      <th></th>\n",
              "      <th></th>\n",
              "      <th></th>\n",
              "      <th></th>\n",
              "      <th></th>\n",
              "      <th></th>\n",
              "      <th></th>\n",
              "      <th></th>\n",
              "      <th></th>\n",
              "      <th></th>\n",
              "      <th></th>\n",
              "      <th></th>\n",
              "      <th></th>\n",
              "    </tr>\n",
              "  </thead>\n",
              "  <tbody>\n",
              "    <tr>\n",
              "      <th>gravity</th>\n",
              "      <th>gravity</th>\n",
              "      <td>26780</td>\n",
              "      <td>26780</td>\n",
              "      <td>26780</td>\n",
              "      <td>26780</td>\n",
              "      <td>24704</td>\n",
              "      <td>26780</td>\n",
              "      <td>24714</td>\n",
              "      <td>26780</td>\n",
              "      <td>26780</td>\n",
              "      <td>26780</td>\n",
              "      <td>26780</td>\n",
              "      <td>26780</td>\n",
              "      <td>26646</td>\n",
              "      <td>26780</td>\n",
              "      <td>26780</td>\n",
              "      <td>26780</td>\n",
              "      <td>26780</td>\n",
              "      <td>26780</td>\n",
              "      <td>26780</td>\n",
              "      <td>25829</td>\n",
              "      <td>26780</td>\n",
              "      <td>26305</td>\n",
              "      <td>21846</td>\n",
              "      <td>25234</td>\n",
              "      <td>26780</td>\n",
              "      <td>26780</td>\n",
              "      <td>26780</td>\n",
              "      <td>26780</td>\n",
              "      <td>26780</td>\n",
              "      <td>26780</td>\n",
              "      <td>26780</td>\n",
              "      <td>26780</td>\n",
              "      <td>26780</td>\n",
              "      <td>26780</td>\n",
              "      <td>26780</td>\n",
              "      <td>26780</td>\n",
              "      <td>26780</td>\n",
              "      <td>26780</td>\n",
              "      <td>26780</td>\n",
              "    </tr>\n",
              "    <tr>\n",
              "      <th rowspan=\"6\" valign=\"top\">handpump</th>\n",
              "      <th>afridev</th>\n",
              "      <td>1770</td>\n",
              "      <td>1770</td>\n",
              "      <td>1770</td>\n",
              "      <td>1770</td>\n",
              "      <td>1668</td>\n",
              "      <td>1770</td>\n",
              "      <td>1665</td>\n",
              "      <td>1770</td>\n",
              "      <td>1770</td>\n",
              "      <td>1770</td>\n",
              "      <td>1770</td>\n",
              "      <td>1770</td>\n",
              "      <td>1770</td>\n",
              "      <td>1770</td>\n",
              "      <td>1770</td>\n",
              "      <td>1770</td>\n",
              "      <td>1770</td>\n",
              "      <td>1770</td>\n",
              "      <td>1770</td>\n",
              "      <td>1624</td>\n",
              "      <td>1770</td>\n",
              "      <td>1614</td>\n",
              "      <td>216</td>\n",
              "      <td>1660</td>\n",
              "      <td>1770</td>\n",
              "      <td>1770</td>\n",
              "      <td>1770</td>\n",
              "      <td>1770</td>\n",
              "      <td>1770</td>\n",
              "      <td>1770</td>\n",
              "      <td>1770</td>\n",
              "      <td>1770</td>\n",
              "      <td>1770</td>\n",
              "      <td>1770</td>\n",
              "      <td>1770</td>\n",
              "      <td>1770</td>\n",
              "      <td>1770</td>\n",
              "      <td>1770</td>\n",
              "      <td>1770</td>\n",
              "    </tr>\n",
              "    <tr>\n",
              "      <th>india mark ii</th>\n",
              "      <td>2400</td>\n",
              "      <td>2400</td>\n",
              "      <td>2400</td>\n",
              "      <td>2400</td>\n",
              "      <td>2358</td>\n",
              "      <td>2400</td>\n",
              "      <td>2358</td>\n",
              "      <td>2400</td>\n",
              "      <td>2400</td>\n",
              "      <td>2400</td>\n",
              "      <td>2400</td>\n",
              "      <td>2400</td>\n",
              "      <td>2400</td>\n",
              "      <td>2400</td>\n",
              "      <td>2400</td>\n",
              "      <td>2400</td>\n",
              "      <td>2400</td>\n",
              "      <td>2400</td>\n",
              "      <td>2400</td>\n",
              "      <td>2297</td>\n",
              "      <td>2400</td>\n",
              "      <td>2193</td>\n",
              "      <td>200</td>\n",
              "      <td>2359</td>\n",
              "      <td>2400</td>\n",
              "      <td>2400</td>\n",
              "      <td>2400</td>\n",
              "      <td>2400</td>\n",
              "      <td>2400</td>\n",
              "      <td>2400</td>\n",
              "      <td>2400</td>\n",
              "      <td>2400</td>\n",
              "      <td>2400</td>\n",
              "      <td>2400</td>\n",
              "      <td>2400</td>\n",
              "      <td>2400</td>\n",
              "      <td>2400</td>\n",
              "      <td>2400</td>\n",
              "      <td>2400</td>\n",
              "    </tr>\n",
              "    <tr>\n",
              "      <th>india mark iii</th>\n",
              "      <td>98</td>\n",
              "      <td>98</td>\n",
              "      <td>98</td>\n",
              "      <td>98</td>\n",
              "      <td>98</td>\n",
              "      <td>98</td>\n",
              "      <td>98</td>\n",
              "      <td>98</td>\n",
              "      <td>98</td>\n",
              "      <td>98</td>\n",
              "      <td>98</td>\n",
              "      <td>98</td>\n",
              "      <td>98</td>\n",
              "      <td>98</td>\n",
              "      <td>98</td>\n",
              "      <td>98</td>\n",
              "      <td>98</td>\n",
              "      <td>98</td>\n",
              "      <td>98</td>\n",
              "      <td>88</td>\n",
              "      <td>98</td>\n",
              "      <td>97</td>\n",
              "      <td>3</td>\n",
              "      <td>98</td>\n",
              "      <td>98</td>\n",
              "      <td>98</td>\n",
              "      <td>98</td>\n",
              "      <td>98</td>\n",
              "      <td>98</td>\n",
              "      <td>98</td>\n",
              "      <td>98</td>\n",
              "      <td>98</td>\n",
              "      <td>98</td>\n",
              "      <td>98</td>\n",
              "      <td>98</td>\n",
              "      <td>98</td>\n",
              "      <td>98</td>\n",
              "      <td>98</td>\n",
              "      <td>98</td>\n",
              "    </tr>\n",
              "    <tr>\n",
              "      <th>nira/tanira</th>\n",
              "      <td>8154</td>\n",
              "      <td>8154</td>\n",
              "      <td>8154</td>\n",
              "      <td>8154</td>\n",
              "      <td>7899</td>\n",
              "      <td>8154</td>\n",
              "      <td>7885</td>\n",
              "      <td>8154</td>\n",
              "      <td>8154</td>\n",
              "      <td>8154</td>\n",
              "      <td>8154</td>\n",
              "      <td>8154</td>\n",
              "      <td>8151</td>\n",
              "      <td>8154</td>\n",
              "      <td>8154</td>\n",
              "      <td>8154</td>\n",
              "      <td>8154</td>\n",
              "      <td>8154</td>\n",
              "      <td>8154</td>\n",
              "      <td>7478</td>\n",
              "      <td>8154</td>\n",
              "      <td>7170</td>\n",
              "      <td>769</td>\n",
              "      <td>7920</td>\n",
              "      <td>8154</td>\n",
              "      <td>8154</td>\n",
              "      <td>8154</td>\n",
              "      <td>8154</td>\n",
              "      <td>8154</td>\n",
              "      <td>8154</td>\n",
              "      <td>8154</td>\n",
              "      <td>8154</td>\n",
              "      <td>8154</td>\n",
              "      <td>8154</td>\n",
              "      <td>8154</td>\n",
              "      <td>8154</td>\n",
              "      <td>8154</td>\n",
              "      <td>8154</td>\n",
              "      <td>8154</td>\n",
              "    </tr>\n",
              "    <tr>\n",
              "      <th>other handpump</th>\n",
              "      <td>364</td>\n",
              "      <td>364</td>\n",
              "      <td>364</td>\n",
              "      <td>364</td>\n",
              "      <td>353</td>\n",
              "      <td>364</td>\n",
              "      <td>354</td>\n",
              "      <td>364</td>\n",
              "      <td>364</td>\n",
              "      <td>364</td>\n",
              "      <td>364</td>\n",
              "      <td>364</td>\n",
              "      <td>364</td>\n",
              "      <td>364</td>\n",
              "      <td>364</td>\n",
              "      <td>364</td>\n",
              "      <td>364</td>\n",
              "      <td>364</td>\n",
              "      <td>364</td>\n",
              "      <td>348</td>\n",
              "      <td>364</td>\n",
              "      <td>352</td>\n",
              "      <td>79</td>\n",
              "      <td>356</td>\n",
              "      <td>364</td>\n",
              "      <td>364</td>\n",
              "      <td>364</td>\n",
              "      <td>364</td>\n",
              "      <td>364</td>\n",
              "      <td>364</td>\n",
              "      <td>364</td>\n",
              "      <td>364</td>\n",
              "      <td>364</td>\n",
              "      <td>364</td>\n",
              "      <td>364</td>\n",
              "      <td>364</td>\n",
              "      <td>364</td>\n",
              "      <td>364</td>\n",
              "      <td>364</td>\n",
              "    </tr>\n",
              "    <tr>\n",
              "      <th>swn 80</th>\n",
              "      <td>3670</td>\n",
              "      <td>3670</td>\n",
              "      <td>3670</td>\n",
              "      <td>3670</td>\n",
              "      <td>3596</td>\n",
              "      <td>3670</td>\n",
              "      <td>3593</td>\n",
              "      <td>3670</td>\n",
              "      <td>3670</td>\n",
              "      <td>3670</td>\n",
              "      <td>3670</td>\n",
              "      <td>3670</td>\n",
              "      <td>3670</td>\n",
              "      <td>3670</td>\n",
              "      <td>3670</td>\n",
              "      <td>3670</td>\n",
              "      <td>3670</td>\n",
              "      <td>3670</td>\n",
              "      <td>3670</td>\n",
              "      <td>3503</td>\n",
              "      <td>3670</td>\n",
              "      <td>3087</td>\n",
              "      <td>155</td>\n",
              "      <td>3655</td>\n",
              "      <td>3670</td>\n",
              "      <td>3670</td>\n",
              "      <td>3670</td>\n",
              "      <td>3670</td>\n",
              "      <td>3670</td>\n",
              "      <td>3670</td>\n",
              "      <td>3670</td>\n",
              "      <td>3670</td>\n",
              "      <td>3670</td>\n",
              "      <td>3670</td>\n",
              "      <td>3670</td>\n",
              "      <td>3670</td>\n",
              "      <td>3670</td>\n",
              "      <td>3670</td>\n",
              "      <td>3670</td>\n",
              "    </tr>\n",
              "    <tr>\n",
              "      <th rowspan=\"2\" valign=\"top\">motorpump</th>\n",
              "      <th>mono</th>\n",
              "      <td>2865</td>\n",
              "      <td>2865</td>\n",
              "      <td>2865</td>\n",
              "      <td>2865</td>\n",
              "      <td>2577</td>\n",
              "      <td>2865</td>\n",
              "      <td>2578</td>\n",
              "      <td>2865</td>\n",
              "      <td>2865</td>\n",
              "      <td>2865</td>\n",
              "      <td>2865</td>\n",
              "      <td>2865</td>\n",
              "      <td>2748</td>\n",
              "      <td>2865</td>\n",
              "      <td>2865</td>\n",
              "      <td>2865</td>\n",
              "      <td>2865</td>\n",
              "      <td>2865</td>\n",
              "      <td>2865</td>\n",
              "      <td>2760</td>\n",
              "      <td>2865</td>\n",
              "      <td>2847</td>\n",
              "      <td>2221</td>\n",
              "      <td>2582</td>\n",
              "      <td>2865</td>\n",
              "      <td>2865</td>\n",
              "      <td>2865</td>\n",
              "      <td>2865</td>\n",
              "      <td>2865</td>\n",
              "      <td>2865</td>\n",
              "      <td>2865</td>\n",
              "      <td>2865</td>\n",
              "      <td>2865</td>\n",
              "      <td>2865</td>\n",
              "      <td>2865</td>\n",
              "      <td>2865</td>\n",
              "      <td>2865</td>\n",
              "      <td>2865</td>\n",
              "      <td>2865</td>\n",
              "    </tr>\n",
              "    <tr>\n",
              "      <th>other motorpump</th>\n",
              "      <td>122</td>\n",
              "      <td>122</td>\n",
              "      <td>122</td>\n",
              "      <td>122</td>\n",
              "      <td>122</td>\n",
              "      <td>122</td>\n",
              "      <td>122</td>\n",
              "      <td>122</td>\n",
              "      <td>122</td>\n",
              "      <td>122</td>\n",
              "      <td>122</td>\n",
              "      <td>122</td>\n",
              "      <td>122</td>\n",
              "      <td>122</td>\n",
              "      <td>122</td>\n",
              "      <td>122</td>\n",
              "      <td>122</td>\n",
              "      <td>122</td>\n",
              "      <td>122</td>\n",
              "      <td>122</td>\n",
              "      <td>122</td>\n",
              "      <td>121</td>\n",
              "      <td>118</td>\n",
              "      <td>122</td>\n",
              "      <td>122</td>\n",
              "      <td>122</td>\n",
              "      <td>122</td>\n",
              "      <td>122</td>\n",
              "      <td>122</td>\n",
              "      <td>122</td>\n",
              "      <td>122</td>\n",
              "      <td>122</td>\n",
              "      <td>122</td>\n",
              "      <td>122</td>\n",
              "      <td>122</td>\n",
              "      <td>122</td>\n",
              "      <td>122</td>\n",
              "      <td>122</td>\n",
              "      <td>122</td>\n",
              "    </tr>\n",
              "    <tr>\n",
              "      <th>other</th>\n",
              "      <th>other</th>\n",
              "      <td>6430</td>\n",
              "      <td>6430</td>\n",
              "      <td>6430</td>\n",
              "      <td>6430</td>\n",
              "      <td>6010</td>\n",
              "      <td>6430</td>\n",
              "      <td>6002</td>\n",
              "      <td>6430</td>\n",
              "      <td>6430</td>\n",
              "      <td>6430</td>\n",
              "      <td>6430</td>\n",
              "      <td>6430</td>\n",
              "      <td>6421</td>\n",
              "      <td>6430</td>\n",
              "      <td>6430</td>\n",
              "      <td>6430</td>\n",
              "      <td>6430</td>\n",
              "      <td>6430</td>\n",
              "      <td>6430</td>\n",
              "      <td>5980</td>\n",
              "      <td>6430</td>\n",
              "      <td>5225</td>\n",
              "      <td>930</td>\n",
              "      <td>6050</td>\n",
              "      <td>6430</td>\n",
              "      <td>6430</td>\n",
              "      <td>6430</td>\n",
              "      <td>6430</td>\n",
              "      <td>6430</td>\n",
              "      <td>6430</td>\n",
              "      <td>6430</td>\n",
              "      <td>6430</td>\n",
              "      <td>6430</td>\n",
              "      <td>6430</td>\n",
              "      <td>6430</td>\n",
              "      <td>6430</td>\n",
              "      <td>6430</td>\n",
              "      <td>6430</td>\n",
              "      <td>6430</td>\n",
              "    </tr>\n",
              "    <tr>\n",
              "      <th>rope pump</th>\n",
              "      <th>rope pump</th>\n",
              "      <td>451</td>\n",
              "      <td>451</td>\n",
              "      <td>451</td>\n",
              "      <td>451</td>\n",
              "      <td>448</td>\n",
              "      <td>451</td>\n",
              "      <td>448</td>\n",
              "      <td>451</td>\n",
              "      <td>451</td>\n",
              "      <td>451</td>\n",
              "      <td>451</td>\n",
              "      <td>451</td>\n",
              "      <td>451</td>\n",
              "      <td>451</td>\n",
              "      <td>451</td>\n",
              "      <td>451</td>\n",
              "      <td>451</td>\n",
              "      <td>451</td>\n",
              "      <td>451</td>\n",
              "      <td>346</td>\n",
              "      <td>451</td>\n",
              "      <td>376</td>\n",
              "      <td>27</td>\n",
              "      <td>349</td>\n",
              "      <td>451</td>\n",
              "      <td>451</td>\n",
              "      <td>451</td>\n",
              "      <td>451</td>\n",
              "      <td>451</td>\n",
              "      <td>451</td>\n",
              "      <td>451</td>\n",
              "      <td>451</td>\n",
              "      <td>451</td>\n",
              "      <td>451</td>\n",
              "      <td>451</td>\n",
              "      <td>451</td>\n",
              "      <td>451</td>\n",
              "      <td>451</td>\n",
              "      <td>451</td>\n",
              "    </tr>\n",
              "    <tr>\n",
              "      <th>submersible</th>\n",
              "      <th>submersible</th>\n",
              "      <td>6179</td>\n",
              "      <td>6179</td>\n",
              "      <td>6179</td>\n",
              "      <td>6179</td>\n",
              "      <td>5820</td>\n",
              "      <td>6179</td>\n",
              "      <td>5816</td>\n",
              "      <td>6179</td>\n",
              "      <td>6179</td>\n",
              "      <td>6179</td>\n",
              "      <td>6179</td>\n",
              "      <td>6179</td>\n",
              "      <td>6071</td>\n",
              "      <td>6179</td>\n",
              "      <td>6179</td>\n",
              "      <td>6179</td>\n",
              "      <td>6179</td>\n",
              "      <td>6179</td>\n",
              "      <td>6179</td>\n",
              "      <td>5575</td>\n",
              "      <td>6179</td>\n",
              "      <td>6019</td>\n",
              "      <td>4596</td>\n",
              "      <td>5854</td>\n",
              "      <td>6179</td>\n",
              "      <td>6179</td>\n",
              "      <td>6179</td>\n",
              "      <td>6179</td>\n",
              "      <td>6179</td>\n",
              "      <td>6179</td>\n",
              "      <td>6179</td>\n",
              "      <td>6179</td>\n",
              "      <td>6179</td>\n",
              "      <td>6179</td>\n",
              "      <td>6179</td>\n",
              "      <td>6179</td>\n",
              "      <td>6179</td>\n",
              "      <td>6179</td>\n",
              "      <td>6179</td>\n",
              "    </tr>\n",
              "    <tr>\n",
              "      <th>wind-powered</th>\n",
              "      <th>wind-powered</th>\n",
              "      <td>117</td>\n",
              "      <td>117</td>\n",
              "      <td>117</td>\n",
              "      <td>117</td>\n",
              "      <td>112</td>\n",
              "      <td>117</td>\n",
              "      <td>112</td>\n",
              "      <td>117</td>\n",
              "      <td>117</td>\n",
              "      <td>117</td>\n",
              "      <td>117</td>\n",
              "      <td>117</td>\n",
              "      <td>117</td>\n",
              "      <td>117</td>\n",
              "      <td>117</td>\n",
              "      <td>117</td>\n",
              "      <td>117</td>\n",
              "      <td>117</td>\n",
              "      <td>117</td>\n",
              "      <td>116</td>\n",
              "      <td>117</td>\n",
              "      <td>117</td>\n",
              "      <td>74</td>\n",
              "      <td>105</td>\n",
              "      <td>117</td>\n",
              "      <td>117</td>\n",
              "      <td>117</td>\n",
              "      <td>117</td>\n",
              "      <td>117</td>\n",
              "      <td>117</td>\n",
              "      <td>117</td>\n",
              "      <td>117</td>\n",
              "      <td>117</td>\n",
              "      <td>117</td>\n",
              "      <td>117</td>\n",
              "      <td>117</td>\n",
              "      <td>117</td>\n",
              "      <td>117</td>\n",
              "      <td>117</td>\n",
              "    </tr>\n",
              "  </tbody>\n",
              "</table>\n",
              "</div>"
            ],
            "text/plain": [
              "                                                id  ...  waterpoint_type_group\n",
              "extraction_type_class extraction_type_group         ...                       \n",
              "gravity               gravity                26780  ...                  26780\n",
              "handpump              afridev                 1770  ...                   1770\n",
              "                      india mark ii           2400  ...                   2400\n",
              "                      india mark iii            98  ...                     98\n",
              "                      nira/tanira             8154  ...                   8154\n",
              "                      other handpump           364  ...                    364\n",
              "                      swn 80                  3670  ...                   3670\n",
              "motorpump             mono                    2865  ...                   2865\n",
              "                      other motorpump          122  ...                    122\n",
              "other                 other                   6430  ...                   6430\n",
              "rope pump             rope pump                451  ...                    451\n",
              "submersible           submersible             6179  ...                   6179\n",
              "wind-powered          wind-powered             117  ...                    117\n",
              "\n",
              "[13 rows x 39 columns]"
            ]
          },
          "metadata": {},
          "execution_count": 36
        }
      ]
    },
    {
      "cell_type": "code",
      "metadata": {
        "colab": {
          "base_uri": "https://localhost:8080/",
          "height": 592
        },
        "id": "vsa7_-FZtLek",
        "outputId": "1615a9d7-ebc9-447c-e0dd-a6c2e58a5cfa"
      },
      "source": [
        "plt.figure(figsize=(20,10))\n",
        "ax = sns.countplot(x='extraction_type_class', hue=\"status_group\", data=df)\n",
        "\n"
      ],
      "execution_count": null,
      "outputs": [
        {
          "output_type": "display_data",
          "data": {
            "image/png": "[encoded data removed]",
            "text/plain": [
              "<Figure size 1440x720 with 1 Axes>"
            ]
          },
          "metadata": {
            "needs_background": "light"
          }
        }
      ]
    },
    {
      "cell_type": "code",
      "metadata": {
        "colab": {
          "base_uri": "https://localhost:8080/",
          "height": 591
        },
        "id": "4cZHolqVtN_n",
        "outputId": "be74f551-a083-4eb2-9516-6fee1d142359"
      },
      "source": [
        "plt.figure(figsize=(20,10))\n",
        "ax = sns.countplot(x='extraction_type_group', hue=\"status_group\", data=df)"
      ],
      "execution_count": null,
      "outputs": [
        {
          "output_type": "display_data",
          "data": {
            "image/png": "[encoded data removed]",
            "text/plain": [
              "<Figure size 1440x720 with 1 Axes>"
            ]
          },
          "metadata": {
            "needs_background": "light"
          }
        }
      ]
    },
    {
      "cell_type": "code",
      "metadata": {
        "colab": {
          "base_uri": "https://localhost:8080/"
        },
        "id": "k_gq5-93tTtr",
        "outputId": "be04ad14-d342-4238-a9ed-66c8dc1a9ca6"
      },
      "source": [
        "df['waterpoint_type'].value_counts()"
      ],
      "execution_count": null,
      "outputs": [
        {
          "output_type": "execute_result",
          "data": {
            "text/plain": [
              "communal standpipe             28522\n",
              "hand pump                      17488\n",
              "other                           6380\n",
              "communal standpipe multiple     6103\n",
              "improved spring                  784\n",
              "cattle trough                    116\n",
              "dam                                7\n",
              "Name: waterpoint_type, dtype: int64"
            ]
          },
          "metadata": {},
          "execution_count": 39
        }
      ]
    },
    {
      "cell_type": "code",
      "metadata": {
        "colab": {
          "base_uri": "https://localhost:8080/"
        },
        "id": "QEjUMlVmtZIy",
        "outputId": "0a3da23c-0f7b-45d5-d348-58560429bd46"
      },
      "source": [
        "df['waterpoint_type_group'].value_counts()"
      ],
      "execution_count": null,
      "outputs": [
        {
          "output_type": "execute_result",
          "data": {
            "text/plain": [
              "communal standpipe    34625\n",
              "hand pump             17488\n",
              "other                  6380\n",
              "improved spring         784\n",
              "cattle trough           116\n",
              "dam                       7\n",
              "Name: waterpoint_type_group, dtype: int64"
            ]
          },
          "metadata": {},
          "execution_count": 40
        }
      ]
    },
    {
      "cell_type": "code",
      "metadata": {
        "colab": {
          "base_uri": "https://localhost:8080/",
          "height": 591
        },
        "id": "RTzaTTjJtd2T",
        "outputId": "da336836-65f8-4d95-8b39-4dd6845df425"
      },
      "source": [
        "plt.figure(figsize=(20,10))\n",
        "ax = sns.countplot(x='waterpoint_type', hue=\"status_group\", data=df)"
      ],
      "execution_count": null,
      "outputs": [
        {
          "output_type": "display_data",
          "data": {
            "image/png": "[encoded data removed]",
            "text/plain": [
              "<Figure size 1440x720 with 1 Axes>"
            ]
          },
          "metadata": {
            "needs_background": "light"
          }
        }
      ]
    },
    {
      "cell_type": "code",
      "metadata": {
        "id": "pomwE6dxtlmN"
      },
      "source": [
        "df.drop(columns=['management_group','scheme_management','quantity_group','source_class','source_type','quality_group',\n",
        "                'payment_type','extraction_type_class','extraction_type', 'waterpoint_type_group'],inplace=True )"
      ],
      "execution_count": null,
      "outputs": []
    },
    {
      "cell_type": "code",
      "metadata": {
        "id": "7Jt7rnWsts38"
      },
      "source": [
        "import io\n",
        "df_test_set = pd.read_csv(io.BytesIO(uploaded['Test set values.csv']))"
      ],
      "execution_count": null,
      "outputs": []
    },
    {
      "cell_type": "code",
      "metadata": {
        "id": "OEJ4xUP7uAG1"
      },
      "source": [
        "df_test_set.drop(columns=['management_group','scheme_management','quantity_group','source_class','source_type','quality_group',\n",
        "                'payment_type','extraction_type_class','extraction_type', 'waterpoint_type_group'],inplace=True )"
      ],
      "execution_count": null,
      "outputs": []
    },
    {
      "cell_type": "code",
      "metadata": {
        "colab": {
          "base_uri": "https://localhost:8080/"
        },
        "id": "TQ6ncwyPuVEX",
        "outputId": "49925068-2c7d-4675-d81a-0bdf0200054c"
      },
      "source": [
        "df['construction_year'].value_counts()"
      ],
      "execution_count": null,
      "outputs": [
        {
          "output_type": "execute_result",
          "data": {
            "text/plain": [
              "0       20709\n",
              "2010     2645\n",
              "2008     2613\n",
              "2009     2533\n",
              "2000     2091\n",
              "2007     1587\n",
              "2006     1471\n",
              "2003     1286\n",
              "2011     1256\n",
              "2004     1123\n",
              "2012     1084\n",
              "2002     1075\n",
              "1978     1037\n",
              "1995     1014\n",
              "2005     1011\n",
              "1999      979\n",
              "1998      966\n",
              "1990      954\n",
              "1985      945\n",
              "1980      811\n",
              "1996      811\n",
              "1984      779\n",
              "1982      744\n",
              "1994      738\n",
              "1972      708\n",
              "1974      676\n",
              "1997      644\n",
              "1992      640\n",
              "1993      608\n",
              "2001      540\n",
              "1988      521\n",
              "1983      488\n",
              "1975      437\n",
              "1986      434\n",
              "1976      414\n",
              "1970      411\n",
              "1991      324\n",
              "1989      316\n",
              "1987      302\n",
              "1981      238\n",
              "1977      202\n",
              "1979      192\n",
              "1973      184\n",
              "2013      176\n",
              "1971      145\n",
              "1960      102\n",
              "1967       88\n",
              "1963       85\n",
              "1968       77\n",
              "1969       59\n",
              "1964       40\n",
              "1962       30\n",
              "1961       21\n",
              "1965       19\n",
              "1966       17\n",
              "Name: construction_year, dtype: int64"
            ]
          },
          "metadata": {},
          "execution_count": 45
        }
      ]
    },
    {
      "cell_type": "code",
      "metadata": {
        "id": "ZmvRshNVuX4E"
      },
      "source": [
        "df['decade'] = df['construction_year'] #creating new columns\n",
        "df_test_set['decade'] = df_test_set['construction_year'] #creating new columns"
      ],
      "execution_count": null,
      "outputs": []
    },
    {
      "cell_type": "code",
      "metadata": {
        "id": "IxcvanGgupea"
      },
      "source": [
        "# dividing the column decades\n",
        "\n",
        "df['decade'].replace(to_replace = (1960,1961,1962,1963,1964,1965,1966,1967,1968,1969),\n",
        "                        value ='60s' , inplace=True)\n",
        "df['decade'].replace(to_replace = (1970,1971,1972,1973,1974,1975,1976,1977,1978,1979),\n",
        "                        value ='70s' , inplace=True)\n",
        "df['decade'].replace(to_replace = (1980,1981,1982,1983,1984,1985,1986,1987,1988,1989),\n",
        "                        value ='80s' , inplace=True)\n",
        "df['decade'].replace(to_replace = (1990,1991,1992,1993,1994,1995,1996,1997,1998,1999),\n",
        "                        value ='90s' , inplace=True)\n",
        "df['decade'].replace(to_replace = (2000,2001,2002,2003,2004,2005,2006,2007,2008,2009),\n",
        "                        value ='00s' , inplace=True)\n",
        "df['decade'].replace(to_replace = (2010,2011,2012,2013),\n",
        "                        value ='10s' , inplace=True)\n",
        "# dividing the column decades\n",
        "\n",
        "df_test_set['decade'].replace(to_replace = (1960,1961,1962,1963,1964,1965,1966,1967,1968,1969),\n",
        "                        value ='60s' , inplace=True)\n",
        "df_test_set['decade'].replace(to_replace = (1970,1971,1972,1973,1974,1975,1976,1977,1978,1979),\n",
        "                        value ='70s' , inplace=True)\n",
        "df_test_set['decade'].replace(to_replace = (1980,1981,1982,1983,1984,1985,1986,1987,1988,1989),\n",
        "                        value ='80s' , inplace=True)\n",
        "df_test_set['decade'].replace(to_replace = (1990,1991,1992,1993,1994,1995,1996,1997,1998,1999),\n",
        "                        value ='90s' , inplace=True)\n",
        "df_test_set['decade'].replace(to_replace = (2000,2001,2002,2003,2004,2005,2006,2007,2008,2009),\n",
        "                        value ='00s' , inplace=True)\n",
        "df_test_set['decade'].replace(to_replace = (2010,2011,2012,2013),\n",
        "                        value ='10s' , inplace=True)"
      ],
      "execution_count": null,
      "outputs": []
    },
    {
      "cell_type": "code",
      "metadata": {
        "colab": {
          "base_uri": "https://localhost:8080/"
        },
        "id": "p4zcwSmqu9Nb",
        "outputId": "0b926eac-05ec-46fc-dc23-629e487e2b2d"
      },
      "source": [
        "df['decade'].value_counts()"
      ],
      "execution_count": null,
      "outputs": [
        {
          "output_type": "execute_result",
          "data": {
            "text/plain": [
              "0      20709\n",
              "00s    15330\n",
              "90s     7678\n",
              "80s     5578\n",
              "10s     5161\n",
              "70s     4406\n",
              "60s      538\n",
              "Name: decade, dtype: int64"
            ]
          },
          "metadata": {},
          "execution_count": 49
        }
      ]
    },
    {
      "cell_type": "code",
      "metadata": {
        "colab": {
          "base_uri": "https://localhost:8080/"
        },
        "id": "d8kbdzXSvKfz",
        "outputId": "1dfae685-b9cf-42b6-a637-501ba6ebc5c6"
      },
      "source": [
        "df_test_set['decade'].value_counts()"
      ],
      "execution_count": null,
      "outputs": [
        {
          "output_type": "execute_result",
          "data": {
            "text/plain": [
              "0      5260\n",
              "00s    3833\n",
              "90s    1933\n",
              "80s    1361\n",
              "10s    1300\n",
              "70s    1042\n",
              "60s     121\n",
              "Name: decade, dtype: int64"
            ]
          },
          "metadata": {},
          "execution_count": 50
        }
      ]
    },
    {
      "cell_type": "code",
      "metadata": {
        "id": "dgiEt7wAvNOF"
      },
      "source": [
        "df['construction_year'].replace(to_replace = 0, value = 2000, inplace=True)\n",
        "#changing the missing values in construction year column\n",
        "df_test_set['construction_year'].replace(to_replace = 0, value = 2000, inplace=True)\n",
        "#changing the missing values in construction year column"
      ],
      "execution_count": null,
      "outputs": []
    },
    {
      "cell_type": "code",
      "metadata": {
        "id": "60Tf0QK0vf6-"
      },
      "source": [
        "df.drop(columns=['recorded_by'],inplace=True ) #dropping the column\n",
        "df_test_set.drop(columns=['recorded_by'],inplace=True ) #dropping the column"
      ],
      "execution_count": null,
      "outputs": []
    },
    {
      "cell_type": "code",
      "metadata": {
        "id": "7m6-2j-ivvTG"
      },
      "source": [
        "df['installer'].fillna(value='Unknown',inplace=True)\n",
        "df_test_set['installer'].fillna(value='Unknown',inplace=True)"
      ],
      "execution_count": null,
      "outputs": []
    },
    {
      "cell_type": "code",
      "metadata": {
        "colab": {
          "base_uri": "https://localhost:8080/"
        },
        "id": "bMNeu6TWv_JB",
        "outputId": "56d02ea8-f680-4dd3-a981-c9edf4a7d0c2"
      },
      "source": [
        "df['installer'].value_counts().head(100).sum()"
      ],
      "execution_count": null,
      "outputs": [
        {
          "output_type": "execute_result",
          "data": {
            "text/plain": [
              "47237"
            ]
          },
          "metadata": {},
          "execution_count": 54
        }
      ]
    },
    {
      "cell_type": "code",
      "metadata": {
        "id": "WEn-bkOswF8x"
      },
      "source": [
        "df['installer'].replace(to_replace = '0', value ='Unknown' , inplace=True) # filling 0 values with unknown\n",
        "df_test_set['installer'].replace(to_replace = '0', value ='Unknown' , inplace=True) # filling 0 values with unknown"
      ],
      "execution_count": null,
      "outputs": []
    },
    {
      "cell_type": "code",
      "metadata": {
        "id": "R5oULZN0wS2g"
      },
      "source": [
        "# From the most common 100 value counts we realized some spelling mistakes or different syntax between same categories\n",
        "\n",
        "# Replacing the spelling mistakes and collect same categories in same name\n",
        "\n",
        "df['installer'].replace(to_replace = ('District Water Department', 'District water depar','Distric Water Department'),\n",
        "                        value ='District water department' , inplace=True)\n",
        "\n",
        "df['installer'].replace(to_replace = ('FinW','Fini water','FINI WATER'), value ='Fini Water' , inplace=True)\n",
        "df['installer'].replace(to_replace = 'JAICA', value ='Jaica' , inplace=True)\n",
        "\n",
        "df['installer'].replace(to_replace = ('COUN', 'District COUNCIL', 'DISTRICT COUNCIL','District Counci', \n",
        "                                      'District Council','Council','Counc','District  Council','Distri'),\n",
        "                                    value ='District council' , inplace=True)\n",
        "\n",
        "df['installer'].replace(to_replace = ('RC CHURCH', 'RC Churc', 'RC','RC Ch','RC C', 'RC CH','RC church', \n",
        "                                      'RC CATHORIC',) , value ='RC Church' , inplace=True)\n",
        "\n",
        "df['installer'].replace(to_replace = ('Central Government','Tanzania Government',\n",
        "                                       'central government','Cental Government', 'Cebtral Government', \n",
        "                                      'Tanzanian Government','Tanzania government', 'Centra Government' ,\n",
        "                                      'CENTRAL GOVERNMENT', 'TANZANIAN GOVERNMENT','Central govt', 'Centr', \n",
        "                                      'Centra govt') , value ='Central government' , inplace=True)\n",
        "\n",
        "df['installer'].replace(to_replace = ('World vision', 'World Division','World Vision'),\n",
        "                                        value ='world vision' , inplace=True)\n",
        "\n",
        "df['installer'].replace(to_replace = ('Unisef','UNICEF'),value ='Unicef' , inplace=True)\n",
        "df['installer'].replace(to_replace = 'DANID', value ='DANIDA' , inplace=True)\n",
        "\n",
        "df['installer'].replace(to_replace = ('villigers', 'villager', 'Villagers', 'Villa', 'Village', 'Villi', \n",
        "                                      'Village Council','Village Counil', 'Villages', 'Vill', 'Village community', \n",
        "                                      'Villaers', 'Village Community', 'Villag','Villege Council', 'Village council',\n",
        "                                      'Village  Council','Villagerd', 'Villager', 'Village Technician',\n",
        "                                      'Village Office','Village community members'),\n",
        "                                        value ='villagers' , inplace=True)\n",
        "\n",
        "df['installer'].replace(to_replace =('Commu','Communit','commu','COMMU', 'COMMUNITY') ,\n",
        "                                        value ='Community' , inplace=True)\n",
        "\n",
        "df['installer'].replace(to_replace = ('GOVERNMENT', 'GOVER', 'GOVERNME', 'GOVERM','GOVERN','Gover','Gove',\n",
        "                                      'Governme','Governmen' ) ,value ='Government' , inplace=True)\n",
        "\n",
        "df['installer'].replace(to_replace = 'Hesawa' ,value ='HESAWA' , inplace=True)\n",
        "\n",
        "# From the most common 100 value counts we realized some spelling mistakes or different syntax between same categories\n",
        "\n",
        "# Replacing the spelling mistakes and collect same categories in same name\n",
        "\n",
        "df_test_set['installer'].replace(to_replace = ('District Water Department', 'District water depar','Distric Water Department'),\n",
        "                        value ='District water department' , inplace=True)\n",
        "\n",
        "df_test_set['installer'].replace(to_replace = ('FinW','Fini water','FINI WATER'), value ='Fini Water' , inplace=True)\n",
        "df_test_set['installer'].replace(to_replace = 'JAICA', value ='Jaica' , inplace=True)\n",
        "\n",
        "df_test_set['installer'].replace(to_replace = ('COUN', 'District COUNCIL', 'DISTRICT COUNCIL','District Counci', \n",
        "                                      'District Council','Council','Counc','District  Council','Distri'),\n",
        "                                    value ='District council' , inplace=True)\n",
        "\n",
        "df_test_set['installer'].replace(to_replace = ('RC CHURCH', 'RC Churc', 'RC','RC Ch','RC C', 'RC CH','RC church', \n",
        "                                      'RC CATHORIC',) , value ='RC Church' , inplace=True)\n",
        "\n",
        "df_test_set['installer'].replace(to_replace = ('Central Government','Tanzania Government',\n",
        "                                       'central government','Cental Government', 'Cebtral Government', \n",
        "                                      'Tanzanian Government','Tanzania government', 'Centra Government' ,\n",
        "                                      'CENTRAL GOVERNMENT', 'TANZANIAN GOVERNMENT','Central govt', 'Centr', \n",
        "                                      'Centra govt') , value ='Central government' , inplace=True)\n",
        "\n",
        "df_test_set['installer'].replace(to_replace = ('World vision', 'World Division','World Vision'),\n",
        "                                        value ='world vision' , inplace=True)\n",
        "\n",
        "df_test_set['installer'].replace(to_replace = ('Unisef','UNICEF'),value ='Unicef' , inplace=True)\n",
        "df_test_set['installer'].replace(to_replace = 'DANID', value ='DANIDA' , inplace=True)\n",
        "\n",
        "df_test_set['installer'].replace(to_replace = ('villigers', 'villager', 'Villagers', 'Villa', 'Village', 'Villi', \n",
        "                                      'Village Council','Village Counil', 'Villages', 'Vill', 'Village community', \n",
        "                                      'Villaers', 'Village Community', 'Villag','Villege Council', 'Village council',\n",
        "                                      'Village  Council','Villagerd', 'Villager', 'Village Technician',\n",
        "                                      'Village Office','Village community members'),\n",
        "                                        value ='villagers' , inplace=True)\n",
        "\n",
        "df_test_set['installer'].replace(to_replace =('Commu','Communit','commu','COMMU', 'COMMUNITY') ,\n",
        "                                        value ='Community' , inplace=True)\n",
        "\n",
        "df_test_set['installer'].replace(to_replace = ('GOVERNMENT', 'GOVER', 'GOVERNME', 'GOVERM','GOVERN','Gover','Gove',\n",
        "                                      'Governme','Governmen' ) ,value ='Government' , inplace=True)\n",
        "\n",
        "df_test_set['installer'].replace(to_replace = 'Hesawa' ,value ='HESAWA' , inplace=True)"
      ],
      "execution_count": null,
      "outputs": []
    },
    {
      "cell_type": "code",
      "metadata": {
        "id": "IcjgLKGwxMt0"
      },
      "source": [
        "# continue to replacing spellin mistakes and getting together values\n",
        "df['installer'].replace(to_replace = ('Colonial Government') , value ='Colonial government' , inplace=True)\n",
        "df['installer'].replace(to_replace = ('Government of Misri') , value ='Misri Government' , inplace=True)\n",
        "df['installer'].replace(to_replace = ('Italy government') , value ='Italian government' , inplace=True)\n",
        "df['installer'].replace(to_replace = ('British colonial government') , value ='British government' , inplace=True)\n",
        "df['installer'].replace(to_replace = ('Concern /government') , value ='Concern/Government' , inplace=True)\n",
        "df['installer'].replace(to_replace = ('Village Government') , value ='Village government' , inplace=True)\n",
        "df['installer'].replace(to_replace = ('Government and Community') , value ='Government /Community' , inplace=True)\n",
        "df['installer'].replace(to_replace = ('Cetral government /RC') , value ='RC church/Central Gover' , inplace=True)\n",
        "df['installer'].replace(to_replace = ('Government /TCRS','Government/TCRS') , value ='TCRS /Government' , inplace=True)\n",
        "df['installer'].replace(to_replace = ('ADRA /Government') , value ='ADRA/Government' , inplace=True)\n",
        "\n",
        "# continue to replacing spellin mistakes and getting together values\n",
        "df_test_set['installer'].replace(to_replace = ('Colonial Government') , value ='Colonial government' , inplace=True)\n",
        "df_test_set['installer'].replace(to_replace = ('Government of Misri') , value ='Misri Government' , inplace=True)\n",
        "df_test_set['installer'].replace(to_replace = ('Italy government') , value ='Italian government' , inplace=True)\n",
        "df_test_set['installer'].replace(to_replace = ('British colonial government') , value ='British government' , inplace=True)\n",
        "df_test_set['installer'].replace(to_replace = ('Concern /government') , value ='Concern/Government' , inplace=True)\n",
        "df_test_set['installer'].replace(to_replace = ('Village Government') , value ='Village government' , inplace=True)\n",
        "df_test_set['installer'].replace(to_replace = ('Government and Community') , value ='Government /Community' , inplace=True)\n",
        "df_test_set['installer'].replace(to_replace = ('Cetral government /RC') , value ='RC church/Central Gover' , inplace=True)\n",
        "df_test_set['installer'].replace(to_replace = ('Government /TCRS','Government/TCRS') , value ='TCRS /Government' , inplace=True)\n",
        "df_test_set['installer'].replace(to_replace = ('ADRA /Government') , value ='ADRA/Government' , inplace=True)"
      ],
      "execution_count": null,
      "outputs": []
    },
    {
      "cell_type": "code",
      "metadata": {
        "colab": {
          "base_uri": "https://localhost:8080/"
        },
        "id": "lwpLaKlWxk10",
        "outputId": "1971b87d-7220-4fc9-c289-5a45b387e558"
      },
      "source": [
        "(47237*100)/59400 # percentage of seeing value counts of installer"
      ],
      "execution_count": null,
      "outputs": [
        {
          "output_type": "execute_result",
          "data": {
            "text/plain": [
              "79.52356902356902"
            ]
          },
          "metadata": {},
          "execution_count": 58
        }
      ]
    },
    {
      "cell_type": "code",
      "metadata": {
        "colab": {
          "base_uri": "https://localhost:8080/"
        },
        "id": "gIlt8hNUxszF",
        "outputId": "18457739-1bf4-4b77-f023-79e6171531ac"
      },
      "source": [
        "df['installer'].value_counts().head(20) #taking most 20 common installer"
      ],
      "execution_count": null,
      "outputs": [
        {
          "output_type": "execute_result",
          "data": {
            "text/plain": [
              "DWE                   17402\n",
              "Unknown                4435\n",
              "Government             2660\n",
              "Community              1674\n",
              "DANIDA                 1602\n",
              "HESAWA                 1379\n",
              "RWE                    1206\n",
              "District council       1179\n",
              "Central government     1114\n",
              "KKKT                    898\n",
              "TCRS                    707\n",
              "world vision            681\n",
              "CES                     610\n",
              "Fini Water              593\n",
              "RC Church               461\n",
              "villagers               408\n",
              "LGA                     408\n",
              "WEDECO                  397\n",
              "TASAF                   396\n",
              "Unicef                  332\n",
              "Name: installer, dtype: int64"
            ]
          },
          "metadata": {},
          "execution_count": 59
        }
      ]
    },
    {
      "cell_type": "code",
      "metadata": {
        "id": "fnC5rY_Txy2E"
      },
      "source": [
        "# Creating new dataframe which just picks our desired values\n",
        "\n",
        "df_1 = df.loc[df['installer']== 'DWE']\n",
        "df_2 = df.loc[df['installer']== 'Unknown']              \n",
        "df_3 = df.loc[df['installer']== 'Government'] \n",
        "df_4 = df.loc[df['installer']== 'Community'] \n",
        "df_5 = df.loc[df['installer']== 'DANIDA'] \n",
        "df_6 = df.loc[df['installer']== 'RWE'] \n",
        "df_7 = df.loc[df['installer']== 'District council'] \n",
        "df_8 = df.loc[df['installer']== 'Central government']\n",
        "df_9 = df.loc[df['installer']== 'KKKT'] \n",
        "df_10 = df.loc[df['installer']== 'HESAWA'] \n",
        "df_11 = df.loc[df['installer']== 'TCRS'] \n",
        "df_12 = df.loc[df['installer']== 'world vision'] \n",
        "df_13 = df.loc[df['installer']== 'CES'] \n",
        "df_14 = df.loc[df['installer']== 'Fini Water'] \n",
        "df_15 = df.loc[df['installer']== 'RC Church'] \n",
        "df_16 = df.loc[df['installer']== 'villagers']\n",
        "df_17 = df.loc[df['installer']== 'LGA']\n",
        "\n",
        "df_installer = pd.concat([df_1,df_2,df_3,df_4,df_5,df_6,df_7,df_8,df_9,df_10,df_11,df_12,\n",
        "                          df_13,df_14,df_15,df_16,df_17], ignore_index=True)\n",
        "\n",
        "# Creating new dataframe which just picks our desired values\n",
        "\n",
        "df_test_set1 = df_test_set.loc[df_test_set['installer']== 'DWE']\n",
        "df_test_set2 = df_test_set.loc[df_test_set['installer']== 'Unknown']              \n",
        "df_test_set3 = df_test_set.loc[df_test_set['installer']== 'Government'] \n",
        "df_test_set4 = df_test_set.loc[df_test_set['installer']== 'Community'] \n",
        "df_test_set5 = df_test_set.loc[df_test_set['installer']== 'DANIDA'] \n",
        "df_test_set6 = df_test_set.loc[df_test_set['installer']== 'RWE'] \n",
        "df_test_set7 = df_test_set.loc[df_test_set['installer']== 'District council'] \n",
        "df_test_set8 = df_test_set.loc[df_test_set['installer']== 'Central government']\n",
        "df_test_set9 = df_test_set.loc[df_test_set['installer']== 'KKKT'] \n",
        "df_test_set10 = df_test_set.loc[df_test_set['installer']== 'HESAWA'] \n",
        "df_test_set11 = df_test_set.loc[df_test_set['installer']== 'TCRS'] \n",
        "df_test_set12 = df_test_set.loc[df_test_set['installer']== 'world vision'] \n",
        "df_test_set13 = df_test_set.loc[df_test_set['installer']== 'CES'] \n",
        "df_test_set14 = df_test_set.loc[df_test_set['installer']== 'Fini Water'] \n",
        "df_test_set15 = df_test_set.loc[df_test_set['installer']== 'RC Church'] \n",
        "df_test_set16 = df_test_set.loc[df_test_set['installer']== 'villagers']\n",
        "df_test_set17 = df_test_set.loc[df_test_set['installer']== 'LGA']\n",
        "\n",
        "df_test_set_installer = pd.concat([df_test_set1,df_test_set2,df_test_set3,df_test_set4,df_test_set5,df_test_set6,df_test_set7,df_test_set8,df_test_set9,df_test_set10,df_test_set11,df_test_set12,\n",
        "                          df_test_set13,df_test_set14,df_test_set15,df_test_set16,df_test_set17], ignore_index=True)"
      ],
      "execution_count": null,
      "outputs": []
    },
    {
      "cell_type": "code",
      "metadata": {
        "id": "-nGZXtP9zn_B"
      },
      "source": [
        "df['installer_cat'] = df['installer']\n",
        "df_test_set['installer_cat'] = df_test_set['installer']"
      ],
      "execution_count": null,
      "outputs": []
    },
    {
      "cell_type": "code",
      "metadata": {
        "id": "_HFAAFb0z7VV"
      },
      "source": [
        "c_ins = ['DWE','Unknown','Government','Community','DANIDA','RWE','District council', 'Central government',\n",
        "         'KKKT','HESAWA','TCRS', 'world vision', 'Fini Water', 'RC Church','villagers','LGA']\n",
        "\n",
        "\n",
        "df.loc[~df[\"installer_cat\"].isin(c_ins), \"installer_cat\"] = \"Others\"\n",
        "# converting the values which has less than 400 value counts to others\n",
        "c_ins = ['DWE','Unknown','Government','Community','DANIDA','RWE','District council', 'Central government',\n",
        "         'KKKT','HESAWA','TCRS', 'world vision', 'Fini Water', 'RC Church','villagers','LGA']\n",
        "\n",
        "\n",
        "df_test_set.loc[~df_test_set[\"installer_cat\"].isin(c_ins), \"installer_cat\"] = \"Others\"\n",
        "# converting the values which has less than 400 value counts to others"
      ],
      "execution_count": null,
      "outputs": []
    },
    {
      "cell_type": "code",
      "metadata": {
        "id": "wUJwmptN0PUC"
      },
      "source": [
        "df['funder'].fillna(value='Unknown',inplace=True)\n",
        "df['funder'].replace(to_replace = '0', value ='Unknown' , inplace=True)\n",
        "# filling 0 and null values with unknown\n",
        "\n",
        "df_test_set['funder'].fillna(value='Unknown',inplace=True)\n",
        "df_test_set['funder'].replace(to_replace = '0', value ='Unknown' , inplace=True)\n",
        "# filling 0 and null values with unknown"
      ],
      "execution_count": null,
      "outputs": []
    },
    {
      "cell_type": "code",
      "metadata": {
        "id": "hsRCGsYy0g9u"
      },
      "source": [
        "df1 = df_test_set.loc[df_test_set['funder']== 'Government Of Tanzania']\n",
        "df2 = df_test_set.loc[df_test_set['funder']== 'Unknown']              \n",
        "df3 = df_test_set.loc[df_test_set['funder']== 'Danida'] \n",
        "df4 = df_test_set.loc[df_test_set['funder']== 'Hesawa'] \n",
        "df5 = df_test_set.loc[df_test_set['funder']== 'Rwssp'] \n",
        "df6 = df_test_set.loc[df_test_set['funder']== 'World Bank'] \n",
        "df7 = df_test_set.loc[df_test_set['funder']== 'Kkkt'] \n",
        "df8 = df_test_set.loc[df_test_set['funder']== 'World Vision']\n",
        "df9 = df_test_set.loc[df_test_set['funder']== 'Unicef'] \n",
        "df10 = df_test_set.loc[df_test_set['funder']== 'Tasaf'] \n",
        "df11 = df_test_set.loc[df_test_set['funder']== 'District Council'] \n",
        "df12 = df_test_set.loc[df_test_set['funder']== 'Dhv'] \n",
        "df13 = df_test_set.loc[df_test_set['funder']== 'Private Individual'] \n",
        "df14 = df_test_set.loc[df_test_set['funder']== 'Dwsp'] \n",
        "df15 = df_test_set.loc[df_test_set['funder']== 'Norad'] \n",
        "df16 = df_test_set.loc[df_test_set['funder']== 'Germany Republi']\n",
        "df17 = df_test_set.loc[df_test_set['funder']== 'Tcrs']\n",
        "df18 = df_test_set.loc[df_test_set['funder']== 'Ministry Of Water']\n",
        "df19 = df_test_set.loc[df_test_set['funder']== 'Water']\n",
        "df20 = df_test_set.loc[df_test_set['funder']== 'Dwe']\n",
        "\n",
        "df_funder = pd.concat([df1,df2,df3,df4,df5,df6,df7,df8,df9,df10,df11,df12,\n",
        "                          df13,df14,df15,df16,df17,df18,df19,df20], ignore_index=True)\n",
        "\n",
        "df_test_1 = df.loc[df['funder']== 'Government Of Tanzania']\n",
        "df_test_2 = df.loc[df['funder']== 'Unknown']              \n",
        "df_test_3 = df.loc[df['funder']== 'Danida'] \n",
        "df_test_4 = df.loc[df['funder']== 'Hesawa'] \n",
        "df_test_5 = df.loc[df['funder']== 'Rwssp'] \n",
        "df_test_6 = df.loc[df['funder']== 'World Bank'] \n",
        "df_test_7 = df.loc[df['funder']== 'Kkkt'] \n",
        "df_test_8 = df.loc[df['funder']== 'World Vision']\n",
        "df_test_9 = df.loc[df['funder']== 'Unicef'] \n",
        "df_test_10 = df.loc[df['funder']== 'Tasaf'] \n",
        "df_test_11 = df.loc[df['funder']== 'District Council'] \n",
        "df_test_12 = df.loc[df['funder']== 'Dhv'] \n",
        "df_test_13 = df.loc[df['funder']== 'Private Individual'] \n",
        "df_test_14 = df.loc[df['funder']== 'Dwsp'] \n",
        "df_test_15 = df.loc[df['funder']== 'Norad'] \n",
        "df_test_16 = df.loc[df['funder']== 'Germany Republi']\n",
        "df_test_17 = df.loc[df['funder']== 'Tcrs']\n",
        "df_test_18 = df.loc[df['funder']== 'Ministry Of Water']\n",
        "df_test_19 = df.loc[df['funder']== 'Water']\n",
        "df_test_20 = df.loc[df['funder']== 'Dwe']\n",
        "\n",
        "df_test_funder = pd.concat([df_test_1,df_test_2,df_test_3,df_test_4,df_test_5,df_test_6,df_test_7,df_test_8,df_test_9,df_test_10,df_test_11,df_test_12,\n",
        "                          df_test_13,df_test_14,df_test_15,df_test_16,df_test_17,df_test_18,df_test_19,df_test_20], ignore_index=True)"
      ],
      "execution_count": null,
      "outputs": []
    },
    {
      "cell_type": "code",
      "metadata": {
        "id": "jeWo_9QZ3hVq"
      },
      "source": [
        "# To collect values together\n",
        "\n",
        "df['funder_cat'] = df['funder'] #creating new column\n",
        "\n",
        "c_fund = ['Danida','Unknown','Government Of Tanzania','Hesawa','Rwssp','World Bank','Kkkt', 'World Vision',\n",
        "         'Unicef','Tasaf','District Council', 'Dhv', 'Private Individual', 'Dwsp','Norad','Germany Republi',\n",
        "         'Tcrs','Ministry Of Water','Water','Dwe']\n",
        "    \n",
        "\n",
        "df.loc[~df[\"funder_cat\"].isin(c_fund), \"funder_cat\"] = \"Others\"\n",
        "\n",
        "# To collect values together\n",
        "\n",
        "df_test_set['funder_cat'] = df_test_set['funder'] #creating new column\n",
        "\n",
        "c_fund = ['Danida','Unknown','Government Of Tanzania','Hesawa','Rwssp','World Bank','Kkkt', 'World Vision',\n",
        "         'Unicef','Tasaf','District Council', 'Dhv', 'Private Individual', 'Dwsp','Norad','Germany Republi',\n",
        "         'Tcrs','Ministry Of Water','Water','Dwe']\n",
        "    \n",
        "\n",
        "df_test_set.loc[~df_test_set[\"funder_cat\"].isin(c_fund), \"funder_cat\"] = \"Others\""
      ],
      "execution_count": null,
      "outputs": []
    },
    {
      "cell_type": "code",
      "metadata": {
        "colab": {
          "base_uri": "https://localhost:8080/"
        },
        "id": "xCxUrwQ54RAH",
        "outputId": "c65fdf51-bb20-4680-a13d-0ea1a937e9ac"
      },
      "source": [
        "df['funder_cat'].nunique()"
      ],
      "execution_count": null,
      "outputs": [
        {
          "output_type": "execute_result",
          "data": {
            "text/plain": [
              "21"
            ]
          },
          "metadata": {},
          "execution_count": 66
        }
      ]
    },
    {
      "cell_type": "code",
      "metadata": {
        "colab": {
          "base_uri": "https://localhost:8080/"
        },
        "id": "a8sSAO5q4Yto",
        "outputId": "790e1de5-704d-4f3a-96b2-c201e1ff9dba"
      },
      "source": [
        "df_test_set['funder_cat'].nunique()"
      ],
      "execution_count": null,
      "outputs": [
        {
          "output_type": "execute_result",
          "data": {
            "text/plain": [
              "21"
            ]
          },
          "metadata": {},
          "execution_count": 67
        }
      ]
    },
    {
      "cell_type": "code",
      "metadata": {
        "id": "G-_nq9qG4qOp"
      },
      "source": [
        "df['longitude'].replace(to_replace = 0 , value =35.15, inplace=True) # changing 0 values to mean"
      ],
      "execution_count": null,
      "outputs": []
    },
    {
      "cell_type": "code",
      "metadata": {
        "id": "ruXeo1kK41EN"
      },
      "source": [
        "df_test_set.loc[df['longitude']!=0].describe() # to find the non-zero values mean"
      ],
      "execution_count": null,
      "outputs": []
    },
    {
      "cell_type": "code",
      "metadata": {
        "id": "EwDs-7Hk5EZm"
      },
      "source": [
        "df_test_set['longitude'].replace(to_replace = 0 , value =34.06, inplace=True) # changing 0 values to mean"
      ],
      "execution_count": null,
      "outputs": []
    },
    {
      "cell_type": "code",
      "metadata": {
        "id": "z-8hXoXn5Nbf"
      },
      "source": [
        "df.drop(columns=['wpt_name','scheme_name','id','region_code'],inplace=True )\n",
        "df_test_set.drop(columns=['wpt_name','scheme_name','id','region_code'],inplace=True )"
      ],
      "execution_count": null,
      "outputs": []
    },
    {
      "cell_type": "code",
      "metadata": {
        "id": "Qr-lvrB15ehm"
      },
      "source": [
        "df.drop(columns=['amount_tsh'],inplace=True )\n",
        "df_test_set.drop(columns=['amount_tsh'],inplace=True )"
      ],
      "execution_count": null,
      "outputs": []
    },
    {
      "cell_type": "code",
      "metadata": {
        "id": "g4W_A5Iy5zrk"
      },
      "source": [
        "df['population'].replace(to_replace = 0 , value =281, inplace=True) #changing 0's to mean"
      ],
      "execution_count": null,
      "outputs": []
    },
    {
      "cell_type": "code",
      "metadata": {
        "colab": {
          "base_uri": "https://localhost:8080/",
          "height": 300
        },
        "id": "Pcs5iBxm6yT1",
        "outputId": "9b6c4dad-c2d4-4716-87bc-cef77f9f05fc"
      },
      "source": [
        "df_test_set.loc[df_test_set['population']!=0].describe() "
      ],
      "execution_count": null,
      "outputs": [
        {
          "output_type": "execute_result",
          "data": {
            "text/html": [
              "<div>\n",
              "<style scoped>\n",
              "    .dataframe tbody tr th:only-of-type {\n",
              "        vertical-align: middle;\n",
              "    }\n",
              "\n",
              "    .dataframe tbody tr th {\n",
              "        vertical-align: top;\n",
              "    }\n",
              "\n",
              "    .dataframe thead th {\n",
              "        text-align: right;\n",
              "    }\n",
              "</style>\n",
              "<table border=\"1\" class=\"dataframe\">\n",
              "  <thead>\n",
              "    <tr style=\"text-align: right;\">\n",
              "      <th></th>\n",
              "      <th>gps_height</th>\n",
              "      <th>longitude</th>\n",
              "      <th>latitude</th>\n",
              "      <th>num_private</th>\n",
              "      <th>district_code</th>\n",
              "      <th>population</th>\n",
              "      <th>construction_year</th>\n",
              "    </tr>\n",
              "  </thead>\n",
              "  <tbody>\n",
              "    <tr>\n",
              "      <th>count</th>\n",
              "      <td>9397.000000</td>\n",
              "      <td>9397.000000</td>\n",
              "      <td>9397.000000</td>\n",
              "      <td>9397.000000</td>\n",
              "      <td>9397.000000</td>\n",
              "      <td>9397.000000</td>\n",
              "      <td>9397.000000</td>\n",
              "    </tr>\n",
              "    <tr>\n",
              "      <th>mean</th>\n",
              "      <td>957.686815</td>\n",
              "      <td>36.095878</td>\n",
              "      <td>-6.145897</td>\n",
              "      <td>0.655954</td>\n",
              "      <td>6.304246</td>\n",
              "      <td>290.954134</td>\n",
              "      <td>1997.191338</td>\n",
              "    </tr>\n",
              "    <tr>\n",
              "      <th>std</th>\n",
              "      <td>614.671104</td>\n",
              "      <td>2.590755</td>\n",
              "      <td>2.732964</td>\n",
              "      <td>10.260354</td>\n",
              "      <td>11.423768</td>\n",
              "      <td>563.265359</td>\n",
              "      <td>12.282133</td>\n",
              "    </tr>\n",
              "    <tr>\n",
              "      <th>min</th>\n",
              "      <td>-57.000000</td>\n",
              "      <td>29.612776</td>\n",
              "      <td>-11.564592</td>\n",
              "      <td>0.000000</td>\n",
              "      <td>1.000000</td>\n",
              "      <td>1.000000</td>\n",
              "      <td>1960.000000</td>\n",
              "    </tr>\n",
              "    <tr>\n",
              "      <th>25%</th>\n",
              "      <td>337.000000</td>\n",
              "      <td>34.714606</td>\n",
              "      <td>-8.313329</td>\n",
              "      <td>0.000000</td>\n",
              "      <td>2.000000</td>\n",
              "      <td>40.000000</td>\n",
              "      <td>1988.000000</td>\n",
              "    </tr>\n",
              "    <tr>\n",
              "      <th>50%</th>\n",
              "      <td>1125.000000</td>\n",
              "      <td>36.748375</td>\n",
              "      <td>-5.859215</td>\n",
              "      <td>0.000000</td>\n",
              "      <td>3.000000</td>\n",
              "      <td>150.000000</td>\n",
              "      <td>2000.000000</td>\n",
              "    </tr>\n",
              "    <tr>\n",
              "      <th>75%</th>\n",
              "      <td>1449.000000</td>\n",
              "      <td>37.971678</td>\n",
              "      <td>-3.613975</td>\n",
              "      <td>0.000000</td>\n",
              "      <td>5.000000</td>\n",
              "      <td>350.000000</td>\n",
              "      <td>2008.000000</td>\n",
              "    </tr>\n",
              "    <tr>\n",
              "      <th>max</th>\n",
              "      <td>2777.000000</td>\n",
              "      <td>40.325016</td>\n",
              "      <td>-1.106080</td>\n",
              "      <td>669.000000</td>\n",
              "      <td>67.000000</td>\n",
              "      <td>11469.000000</td>\n",
              "      <td>2013.000000</td>\n",
              "    </tr>\n",
              "  </tbody>\n",
              "</table>\n",
              "</div>"
            ],
            "text/plain": [
              "        gps_height    longitude  ...    population  construction_year\n",
              "count  9397.000000  9397.000000  ...   9397.000000        9397.000000\n",
              "mean    957.686815    36.095878  ...    290.954134        1997.191338\n",
              "std     614.671104     2.590755  ...    563.265359          12.282133\n",
              "min     -57.000000    29.612776  ...      1.000000        1960.000000\n",
              "25%     337.000000    34.714606  ...     40.000000        1988.000000\n",
              "50%    1125.000000    36.748375  ...    150.000000        2000.000000\n",
              "75%    1449.000000    37.971678  ...    350.000000        2008.000000\n",
              "max    2777.000000    40.325016  ...  11469.000000        2013.000000\n",
              "\n",
              "[8 rows x 7 columns]"
            ]
          },
          "metadata": {},
          "execution_count": 75
        }
      ]
    },
    {
      "cell_type": "code",
      "metadata": {
        "id": "u_Waduga7BB3"
      },
      "source": [
        "df_test_set['population'].replace(to_replace = 0 , value =281, inplace=True) #changing 0's to mean"
      ],
      "execution_count": null,
      "outputs": []
    },
    {
      "cell_type": "code",
      "metadata": {
        "id": "M6SG5lMk7J3n"
      },
      "source": [
        "df.drop(columns=['date_recorded','num_private'],inplace=True )"
      ],
      "execution_count": null,
      "outputs": []
    },
    {
      "cell_type": "code",
      "metadata": {
        "id": "WOhQteIy7lsC"
      },
      "source": [
        "df_test_set.drop(columns=['date_recorded','num_private'],inplace=True )"
      ],
      "execution_count": null,
      "outputs": []
    },
    {
      "cell_type": "code",
      "metadata": {
        "id": "haQZY_aE7p0Y"
      },
      "source": [
        "df.drop(columns=['subvillage'],inplace=True )\n",
        "df_test_set.drop(columns=['subvillage'],inplace=True )"
      ],
      "execution_count": null,
      "outputs": []
    },
    {
      "cell_type": "code",
      "metadata": {
        "id": "5OMsQq0z73lr"
      },
      "source": [
        "df['public_meeting'].fillna(value=True,inplace=True)\n",
        "df['permit'].fillna(value=True, inplace=True)\n",
        "df_test_set['public_meeting'].fillna(value=True,inplace=True)\n",
        "df_test_set['permit'].fillna(value=True, inplace=True)"
      ],
      "execution_count": null,
      "outputs": []
    },
    {
      "cell_type": "code",
      "metadata": {
        "id": "-ooRSY2P8edh"
      },
      "source": [
        "target_status_group = {'functional':0, \n",
        "                   'non functional': 2, \n",
        "                   'functional needs repair': 1} \n",
        "df['status_group'] = df['status_group'].replace(target_status_group)"
      ],
      "execution_count": null,
      "outputs": []
    },
    {
      "cell_type": "code",
      "metadata": {
        "id": "WL-q7zkj8nes"
      },
      "source": [
        "df.to_csv('clean_data.csv')"
      ],
      "execution_count": null,
      "outputs": []
    },
    {
      "cell_type": "code",
      "metadata": {
        "colab": {
          "base_uri": "https://localhost:8080/",
          "height": 17
        },
        "id": "lesHK9M98wUL",
        "outputId": "17554446-5496-4e8d-9dac-64e289ddb90f"
      },
      "source": [
        "df_test_set.to_csv('clean_data_test.csv')\n",
        "from google.colab import files\n",
        "files.download(\"clean_data.csv\")\n",
        "files.download(\"clean_data_test.csv\")"
      ],
      "execution_count": null,
      "outputs": [
        {
          "output_type": "display_data",
          "data": {
            "application/javascript": [
              "\n",
              "    async function download(id, filename, size) {\n",
              "      if (!google.colab.kernel.accessAllowed) {\n",
              "        return;\n",
              "      }\n",
              "      const div = document.createElement('div');\n",
              "      const label = document.createElement('label');\n",
              "      label.textContent = `Downloading \"${filename}\": `;\n",
              "      div.appendChild(label);\n",
              "      const progress = document.createElement('progress');\n",
              "      progress.max = size;\n",
              "      div.appendChild(progress);\n",
              "      document.body.appendChild(div);\n",
              "\n",
              "      const buffers = [];\n",
              "      let downloaded = 0;\n",
              "\n",
              "      const channel = await google.colab.kernel.comms.open(id);\n",
              "      // Send a message to notify the kernel that we're ready.\n",
              "      channel.send({})\n",
              "\n",
              "      for await (const message of channel.messages) {\n",
              "        // Send a message to notify the kernel that we're ready.\n",
              "        channel.send({})\n",
              "        if (message.buffers) {\n",
              "          for (const buffer of message.buffers) {\n",
              "            buffers.push(buffer);\n",
              "            downloaded += buffer.byteLength;\n",
              "            progress.value = downloaded;\n",
              "          }\n",
              "        }\n",
              "      }\n",
              "      const blob = new Blob(buffers, {type: 'application/binary'});\n",
              "      const a = document.createElement('a');\n",
              "      a.href = window.URL.createObjectURL(blob);\n",
              "      a.download = filename;\n",
              "      div.appendChild(a);\n",
              "      a.click();\n",
              "      div.remove();\n",
              "    }\n",
              "  "
            ],
            "text/plain": [
              "<IPython.core.display.Javascript object>"
            ]
          },
          "metadata": {}
        },
        {
          "output_type": "display_data",
          "data": {
            "application/javascript": [
              "download(\"download_ba7656f7-4237-4c02-832c-dd777a935f9d\", \"clean_data.csv\", 11691008)"
            ],
            "text/plain": [
              "<IPython.core.display.Javascript object>"
            ]
          },
          "metadata": {}
        },
        {
          "output_type": "display_data",
          "data": {
            "application/javascript": [
              "\n",
              "    async function download(id, filename, size) {\n",
              "      if (!google.colab.kernel.accessAllowed) {\n",
              "        return;\n",
              "      }\n",
              "      const div = document.createElement('div');\n",
              "      const label = document.createElement('label');\n",
              "      label.textContent = `Downloading \"${filename}\": `;\n",
              "      div.appendChild(label);\n",
              "      const progress = document.createElement('progress');\n",
              "      progress.max = size;\n",
              "      div.appendChild(progress);\n",
              "      document.body.appendChild(div);\n",
              "\n",
              "      const buffers = [];\n",
              "      let downloaded = 0;\n",
              "\n",
              "      const channel = await google.colab.kernel.comms.open(id);\n",
              "      // Send a message to notify the kernel that we're ready.\n",
              "      channel.send({})\n",
              "\n",
              "      for await (const message of channel.messages) {\n",
              "        // Send a message to notify the kernel that we're ready.\n",
              "        channel.send({})\n",
              "        if (message.buffers) {\n",
              "          for (const buffer of message.buffers) {\n",
              "            buffers.push(buffer);\n",
              "            downloaded += buffer.byteLength;\n",
              "            progress.value = downloaded;\n",
              "          }\n",
              "        }\n",
              "      }\n",
              "      const blob = new Blob(buffers, {type: 'application/binary'});\n",
              "      const a = document.createElement('a');\n",
              "      a.href = window.URL.createObjectURL(blob);\n",
              "      a.download = filename;\n",
              "      div.appendChild(a);\n",
              "      a.click();\n",
              "      div.remove();\n",
              "    }\n",
              "  "
            ],
            "text/plain": [
              "<IPython.core.display.Javascript object>"
            ]
          },
          "metadata": {}
        },
        {
          "output_type": "display_data",
          "data": {
            "application/javascript": [
              "download(\"download_d30b8972-75f2-438e-9707-9b1f9674d0dc\", \"clean_data_test.csv\", 2881424)"
            ],
            "text/plain": [
              "<IPython.core.display.Javascript object>"
            ]
          },
          "metadata": {}
        }
      ]
    },
    {
      "cell_type": "code",
      "metadata": {
        "id": "k-rBXJ3lKpZt"
      },
      "source": [
        ""
      ],
      "execution_count": null,
      "outputs": []
    }
  ]
}